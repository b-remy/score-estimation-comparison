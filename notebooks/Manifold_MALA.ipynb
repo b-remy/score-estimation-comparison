{
 "cells": [
  {
   "cell_type": "code",
   "execution_count": 172,
   "metadata": {},
   "outputs": [
    {
     "name": "stdout",
     "output_type": "stream",
     "text": [
      "Populating the interactive namespace from numpy and matplotlib\n",
      "The autoreload extension is already loaded. To reload it, use:\n",
      "  %reload_ext autoreload\n"
     ]
    }
   ],
   "source": [
    "%pylab inline\n",
    "%load_ext autoreload\n",
    "%autoreload 2\n",
    "\n",
    "from nsec.samplers import ScoreHamiltonianMonteCarlo, ScoreMetropolisAdjustedLangevinAlgorithm\n",
    "\n",
    "from nsec.datasets.swiss_roll import get_swiss_roll\n",
    "from nsec.datasets.two_moons import get_two_moons\n",
    "import jax\n",
    "import jax.numpy as jnp\n",
    "from jax import ops\n",
    "import tensorflow_probability as tfp; tfp = tfp.experimental.substrates.jax\n",
    "from functools import partial\n",
    "\n",
    "tfd = tfp.distributions"
   ]
  },
  {
   "cell_type": "markdown",
   "metadata": {},
   "source": [
    "## Comparing Langevin and MALA from TFP"
   ]
  },
  {
   "cell_type": "code",
   "execution_count": 10,
   "metadata": {},
   "outputs": [],
   "source": [
    "dist = get_swiss_roll(.5, 2048)\n",
    "score = jax.grad(dist.log_prob)\n",
    "\n",
    "num_results = int(20e3)\n",
    "num_burnin_steps = int(1e3)\n",
    "init_samples = dist.sample(10000, seed=jax.random.PRNGKey(0))"
   ]
  },
  {
   "cell_type": "code",
   "execution_count": 11,
   "metadata": {},
   "outputs": [
    {
     "name": "stderr",
     "output_type": "stream",
     "text": [
      "/opt/anaconda3/envs/cosmo/lib/python3.8/site-packages/tensorflow_probability/python/mcmc/_jax/sample.py:314: UserWarning: supplied `TransitionKernel` is not calibrated. Markov chain may not converge to intended target distribution.\n",
      "  warnings.warn('supplied `TransitionKernel` is not calibrated. Markov '\n",
      "/opt/anaconda3/envs/cosmo/lib/python3.8/site-packages/jax/numpy/lax_numpy.py:1531: FutureWarning: jax.numpy reductions won't accept lists and tuples in future versions, only scalars and ndarrays\n",
      "  warnings.warn(msg, category=FutureWarning)\n",
      "/opt/anaconda3/envs/cosmo/lib/python3.8/site-packages/tensorflow_probability/python/mcmc/_jax/sample.py:338: UserWarning: Tracing all kernel results by default is deprecated. Set the `trace_fn` argument to None (the future default value) or an explicit callback that traces the values you are interested in.\n",
      "  warnings.warn('Tracing all kernel results by default is deprecated. Set '\n"
     ]
    }
   ],
   "source": [
    "kernel_ulangevin = tfp.mcmc.UncalibratedLangevin(\n",
    "        target_log_prob_fn=dist.log_prob,\n",
    "        step_size=0.1)\n",
    "\n",
    "samples_ulangevin, is_accepted_ulangevin = tfp.mcmc.sample_chain(\n",
    "      num_results=num_results,\n",
    "      num_burnin_steps=num_burnin_steps,\n",
    "      current_state=init_samples[1],\n",
    "      kernel=kernel_ulangevin,\n",
    "      #trace_fn=lambda _, pkr: pkr.is_accepted, \n",
    "      seed=jax.random.PRNGKey(3))"
   ]
  },
  {
   "cell_type": "code",
   "execution_count": 12,
   "metadata": {},
   "outputs": [],
   "source": [
    "kernel_mala = tfp.mcmc.MetropolisAdjustedLangevinAlgorithm(\n",
    "        target_log_prob_fn=dist.log_prob,\n",
    "        step_size=0.1)\n",
    "\n",
    "samples_mala, is_accepted_mala = tfp.mcmc.sample_chain(\n",
    "      num_results=num_results,\n",
    "      num_burnin_steps=num_burnin_steps,\n",
    "      current_state=init_samples[1],\n",
    "      kernel=kernel_mala,\n",
    "      trace_fn=lambda _, pkr: pkr.is_accepted, \n",
    "      seed=jax.random.PRNGKey(1))"
   ]
  },
  {
   "cell_type": "code",
   "execution_count": 449,
   "metadata": {},
   "outputs": [
    {
     "name": "stdout",
     "output_type": "stream",
     "text": [
      "0.9789 accepted\n"
     ]
    },
    {
     "data": {
      "image/png": "[encoded data removed]",
      "text/plain": [
       "<Figure size 1080x360 with 3 Axes>"
      ]
     },
     "metadata": {
      "needs_background": "light"
     },
     "output_type": "display_data"
    }
   ],
   "source": [
    "plt.figure(figsize=(15,5))\n",
    "\n",
    "plt.subplot(131)\n",
    "hist2d(init_samples[:,0], init_samples[:,1],64,range=[[-15,15],[-15,15]]); gca().set_aspect('equal')\n",
    "scatter(init_samples[1,0], init_samples[1,1], label='x0', color='C1')\n",
    "title('Samples from true distribution')\n",
    "legend()\n",
    "plt.subplot(132)\n",
    "hist2d(samples_ulangevin[:,0], samples_ulangevin[:,1],64,range=[[-15,15],[-15,15]]); gca().set_aspect('equal')\n",
    "scatter(init_samples[1,0], init_samples[1,1], label='x0', color='C1')\n",
    "title('Uncalibrated Langevin')\n",
    "legend()\n",
    "plt.subplot(133)\n",
    "hist2d(samples_mala[is_accepted_mala,0], samples_mala[is_accepted_mala,1],64,range=[[-15,15],[-15,15]]); gca().set_aspect('equal')\n",
    "scatter(init_samples[1,0], init_samples[1,1], label='x0', color='C1')\n",
    "title('MALA')\n",
    "legend()\n",
    "\n",
    "print('{} accepted'.format(len(jnp.where(is_accepted_mala)[0])/num_results))"
   ]
  },
  {
   "cell_type": "markdown",
   "metadata": {},
   "source": [
    "## Langevin dynamics"
   ]
  },
  {
   "cell_type": "code",
   "execution_count": 35,
   "metadata": {},
   "outputs": [],
   "source": [
    "@jax.jit\n",
    "def update_langevin(i, args):\n",
    "    samples, step_size, seed = args\n",
    "    \n",
    "    seed, key, _ = jax.random.split(seed, 3)\n",
    "    \n",
    "    x = samples[i-1]\n",
    "    \n",
    "    noise = jax.random.normal(key, shape=x.shape)\n",
    "    gradient = score(x)\n",
    "    \n",
    "    new_x = x + 0.5 * step_size * gradient + noise * jnp.sqrt(step_size)\n",
    "    \n",
    "    samples_updated = ops.index_update(samples, i, new_x)\n",
    "    \n",
    "    return samples_updated, step_size, seed\n",
    "\n",
    "@jax.jit\n",
    "def langevin(init_sample, n_steps=num_results, step_size=.1, seed=jax.random.PRNGKey(5)):\n",
    "    samples = jnp.zeros((n_steps,2))\n",
    "    samples = ops.index_update(samples, ops.index[0,:], init_sample)\n",
    "    langevin_samples, _, _ = jax.lax.fori_loop(1, n_steps, update_langevin, (samples, step_size, seed))\n",
    "    \n",
    "    return langevin_samples"
   ]
  },
  {
   "cell_type": "code",
   "execution_count": 36,
   "metadata": {},
   "outputs": [],
   "source": [
    "custom_langevin = jnp.array(langevin(init_samples[1]))"
   ]
  },
  {
   "cell_type": "code",
   "execution_count": 37,
   "metadata": {},
   "outputs": [
    {
     "data": {
      "text/plain": [
       "<matplotlib.collections.PathCollection at 0x7fb1a0cf5be0>"
      ]
     },
     "execution_count": 37,
     "metadata": {},
     "output_type": "execute_result"
    },
    {
     "data": {
      "image/png": "[encoded data removed]",
      "text/plain": [
       "<Figure size 432x288 with 1 Axes>"
      ]
     },
     "metadata": {
      "needs_background": "light"
     },
     "output_type": "display_data"
    }
   ],
   "source": [
    "hist2d(custom_langevin[:,0], custom_langevin[:,1],64,range=[[-15,15],[-15,15]]); gca().set_aspect('equal')\n",
    "scatter(init_samples[1, 0], init_samples[1, 1], label='x0', color='C1')"
   ]
  },
  {
   "cell_type": "markdown",
   "metadata": {},
   "source": [
    "## MALA"
   ]
  },
  {
   "cell_type": "code",
   "execution_count": 662,
   "metadata": {},
   "outputs": [],
   "source": [
    "@jax.jit\n",
    "def update(args):\n",
    "    (samples, i, v) = args\n",
    "    return ops.index_update(samples, i, v)\n",
    "\n",
    "@jax.jit\n",
    "def no_update(args):\n",
    "    (samples, i, v) = args\n",
    "    return ops.index_update(samples, i, samples[i-1])\n",
    "\n",
    "@jax.jit\n",
    "def update_mala(i, args):\n",
    "    samples, acceptance_samples, step_size, seed = args\n",
    "    \n",
    "    seed, key1, key2 = jax.random.split(seed,3)\n",
    "    \n",
    "    u = samples[i-1]\n",
    "    \n",
    "    noise = jax.random.normal(key1, shape=u.shape)\n",
    "    \n",
    "    drift_u = 0.5 * step_size * score(u)# * 0. + 1.)\n",
    "    \n",
    "    v = u + drift_u + noise * jnp.sqrt(step_size)\n",
    "    \n",
    "    drift_v = 0.5 * step_size * score(v)\n",
    "    \n",
    "    # Metropolis-Hasings\n",
    "    delta_log_p = dist.log_prob(v) - dist.log_prob(u)\n",
    "    \n",
    "    log_v_u = tfd.MultivariateNormalDiag(v + drift_v, jnp.sqrt(step_size) * jnp.ones(u.shape)).log_prob(u)\n",
    "    log_u_v = tfd.MultivariateNormalDiag(u + drift_u, jnp.sqrt(step_size) * jnp.ones(u.shape)).log_prob(v)\n",
    "\n",
    "    # acceptance ratio\n",
    "    log_acceptance_correction = log_v_u - log_u_v\n",
    "    log_acceptance = delta_log_p + log_acceptance_correction\n",
    "    \n",
    "    acceptance_ratio = jnp.min([1., jnp.exp(log_acceptance)])\n",
    "    \n",
    "    prob = jax.random.uniform(key2)\n",
    "\n",
    "    acceptance_samples = ops.index_update(acceptance_samples, i, acceptance_ratio)\n",
    "    \n",
    "    samples_updated = jax.lax.cond(prob <= acceptance_ratio,\n",
    "                                   update,\n",
    "                                   no_update,\n",
    "                                   (samples, i, v))\n",
    "    \n",
    "    #samples_updated = ops.index_update(samples, i, v)\n",
    "    \n",
    "    return samples_updated, acceptance_samples, step_size, seed\n",
    "\n",
    "@jax.jit\n",
    "def mala(init_sample, n_steps=int(20e3), step_size=.1, seed=jax.random.PRNGKey(5)):\n",
    "    samples = jnp.zeros((n_steps,2))\n",
    "    acceptance_samples = jnp.zeros((n_steps,2))\n",
    "    samples = ops.index_update(samples, ops.index[0,:], init_sample)\n",
    "\n",
    "    #d0 = jnp.zeros(2)\n",
    "    #x1 = tfd.MultivariateNormalDiag(d0, step_size * jnp.ones(2))\n",
    "    \n",
    "    mala_samples, acceptance_samples, _, _ = jax.lax.fori_loop(1, n_steps, update_mala, (samples, acceptance_samples, step_size, seed))\n",
    "    \n",
    "    return mala_samples, acceptance_samples"
   ]
  },
  {
   "cell_type": "code",
   "execution_count": 663,
   "metadata": {},
   "outputs": [
    {
     "name": "stderr",
     "output_type": "stream",
     "text": [
      "/opt/anaconda3/envs/cosmo/lib/python3.8/site-packages/jax/numpy/lax_numpy.py:1531: FutureWarning: jax.numpy reductions won't accept lists and tuples in future versions, only scalars and ndarrays\n",
      "  warnings.warn(msg, category=FutureWarning)\n"
     ]
    }
   ],
   "source": [
    "custom_mala, acceptance_samples = jnp.array(mala(init_samples[1]))"
   ]
  },
  {
   "cell_type": "code",
   "execution_count": 664,
   "metadata": {},
   "outputs": [
    {
     "name": "stdout",
     "output_type": "stream",
     "text": [
      "[[0.         0.        ]\n",
      " [0.9827963  0.9827963 ]\n",
      " [0.95547706 0.95547706]\n",
      " ...\n",
      " [1.         1.        ]\n",
      " [0.94451535 0.94451535]\n",
      " [0.9913941  0.9913941 ]]\n"
     ]
    },
    {
     "data": {
      "image/png": "[encoded data removed]",
      "text/plain": [
       "<Figure size 1200x800 with 1 Axes>"
      ]
     },
     "metadata": {
      "needs_background": "light"
     },
     "output_type": "display_data"
    }
   ],
   "source": [
    "plt.figure(dpi=200)\n",
    "hist2d(custom_mala[:,0], custom_mala[:,1],64,range=[[-15,15],[-15,15]], cmap='gist_stern'); gca().set_aspect('equal')\n",
    "scatter(custom_mala[0, 0], custom_mala[0, 1], label='x0', color='C1')\n",
    "\n",
    "#print(acceptance_samples[:])"
   ]
  },
  {
   "cell_type": "code",
   "execution_count": 665,
   "metadata": {},
   "outputs": [
    {
     "data": {
      "text/plain": [
       "DeviceArray(0.979542, dtype=float32)"
      ]
     },
     "execution_count": 665,
     "metadata": {},
     "output_type": "execute_result"
    },
    {
     "data": {
      "image/png": "[encoded data removed]",
      "text/plain": [
       "<Figure size 432x288 with 1 Axes>"
      ]
     },
     "metadata": {
      "needs_background": "light"
     },
     "output_type": "display_data"
    }
   ],
   "source": [
    "plot(acceptance_samples[:,0])\n",
    "jnp.mean(acceptance_samples[:,0])"
   ]
  },
  {
   "cell_type": "markdown",
   "metadata": {},
   "source": [
    "## MALA v2"
   ]
  },
  {
   "cell_type": "code",
   "execution_count": 585,
   "metadata": {},
   "outputs": [],
   "source": [
    "@jax.jit\n",
    "def update(args):\n",
    "    (samples, i, x_next, drift, drift_next) = args\n",
    "    return ops.index_update(samples, i, x_next), x_next, drift, drift_next\n",
    "\n",
    "@jax.jit\n",
    "def no_update(args):\n",
    "    (samples, i, x_next, drift, drift_next) = args\n",
    "    return ops.index_update(samples, i, samples[i-1]), samples[i-1], drift, drift\n",
    "\n",
    "@jax.jit\n",
    "def update_mala(i, args):\n",
    "    \n",
    "    samples, ratios, drift, x_next, step_size, seed = args\n",
    "    \n",
    "    seed, key1, key2 = jax.random.split(seed, 3)\n",
    "    \n",
    "    x = samples[i-1]\n",
    "    \n",
    "    drift_next = x_next + 0.5 * step_size * score(x_next)\n",
    "    \n",
    "    delta_log_p = dist.log_prob(x_next) - dist.log_prob(x)\n",
    "    \n",
    "    log_v_u = tfd.MultivariateNormalDiag(drift_next, step_size * jnp.ones(x.shape)).log_prob(x)\n",
    "    log_u_v = tfd.MultivariateNormalDiag(drift, step_size * jnp.ones(x.shape)).log_prob(x_next)\n",
    "    delta_correction = log_v_u - log_u_v\n",
    "\n",
    "    log_acceptance = delta_log_p + delta_correction\n",
    "\n",
    "    acceptance_ratio = jnp.min([1., jnp.exp(log_acceptance)])\n",
    "    \n",
    "    ratios = ops.index_update(ratios, i, jnp.exp(log_acceptance))\n",
    "    \n",
    "    prob = jax.random.uniform(key2)\n",
    "\n",
    "    samples_updated, x_next, drift, drift_next = jax.lax.cond(prob <= acceptance_ratio,\n",
    "                                                              update,\n",
    "                                                              no_update,\n",
    "                                                              (samples, i, x_next, drift, drift_next))\n",
    "    \n",
    "    noise = jax.random.normal(key1, shape=x.shape)\n",
    "    \n",
    "    x_next_next = drift_next + noise * jnp.sqrt(step_size)\n",
    "    \n",
    "    return samples_updated, ratios, drift_next, x_next_next, step_size, seed\n",
    "\n",
    "@jax.jit\n",
    "def mala(init_sample, n_steps=num_results, step_size=.001, seed=jax.random.PRNGKey(5)):\n",
    "    samples = jnp.zeros((n_steps,2))\n",
    "    #acceptance_samples = jnp.zeros((n_steps,2))\n",
    "    samples = ops.index_update(samples, ops.index[0,:], init_sample)\n",
    "\n",
    "    ratios = jnp.zeros(n_steps)\n",
    "    \n",
    "    d0 = init_sample + 0.5 * step_size * score(init_sample)\n",
    "    x1 = tfd.MultivariateNormalDiag(d0, step_size * jnp.ones(2)).sample(seed=jax.random.PRNGKey(2))\n",
    "    \n",
    "    mala_samples, ratios, _, _, _, _ = jax.lax.fori_loop(1, n_steps, update_mala, (samples, ratios, d0, x1, step_size, seed))\n",
    "    \n",
    "    return mala_samples, ratios"
   ]
  },
  {
   "cell_type": "code",
   "execution_count": 586,
   "metadata": {},
   "outputs": [
    {
     "name": "stderr",
     "output_type": "stream",
     "text": [
      "/opt/anaconda3/envs/cosmo/lib/python3.8/site-packages/jax/numpy/lax_numpy.py:1531: FutureWarning: jax.numpy reductions won't accept lists and tuples in future versions, only scalars and ndarrays\n",
      "  warnings.warn(msg, category=FutureWarning)\n"
     ]
    }
   ],
   "source": [
    "samples, ratios = mala(init_samples[7])\n",
    "custom_mala = jnp.array(samples)"
   ]
  },
  {
   "cell_type": "code",
   "execution_count": 587,
   "metadata": {},
   "outputs": [
    {
     "data": {
      "text/plain": [
       "<matplotlib.collections.PathCollection at 0x7fb1ea7f05e0>"
      ]
     },
     "execution_count": 587,
     "metadata": {},
     "output_type": "execute_result"
    },
    {
     "data": {
      "image/png": "[encoded data removed]",
      "text/plain": [
       "<Figure size 432x288 with 1 Axes>"
      ]
     },
     "metadata": {
      "needs_background": "light"
     },
     "output_type": "display_data"
    }
   ],
   "source": [
    "hist2d(custom_mala[:,0], custom_mala[:,1],64,range=[[-15,15],[-15,15]]); gca().set_aspect('equal')\n",
    "#scatter(custom_mala[:,0], custom_mala[:,1])\n",
    "scatter(init_samples[7, 0], init_samples[7, 1], label='x0', color='C1')"
   ]
  },
  {
   "cell_type": "code",
   "execution_count": 588,
   "metadata": {},
   "outputs": [
    {
     "data": {
      "text/plain": [
       "[<matplotlib.lines.Line2D at 0x7fb1eab45100>]"
      ]
     },
     "execution_count": 588,
     "metadata": {},
     "output_type": "execute_result"
    },
    {
     "data": {
      "image/png": "[encoded data removed]",
      "text/plain": [
       "<Figure size 432x288 with 1 Axes>"
      ]
     },
     "metadata": {
      "needs_background": "light"
     },
     "output_type": "display_data"
    }
   ],
   "source": [
    "semilogy(ratios)"
   ]
  },
  {
   "cell_type": "code",
   "execution_count": 589,
   "metadata": {},
   "outputs": [
    {
     "data": {
      "text/plain": [
       "[<matplotlib.lines.Line2D at 0x7fb1eab450a0>]"
      ]
     },
     "execution_count": 589,
     "metadata": {},
     "output_type": "execute_result"
    },
    {
     "data": {
      "image/png": "[encoded data removed]",
      "text/plain": [
       "<Figure size 432x288 with 1 Axes>"
      ]
     },
     "metadata": {
      "needs_background": "light"
     },
     "output_type": "display_data"
    }
   ],
   "source": [
    "semilogy(ratios)"
   ]
  },
  {
   "cell_type": "code",
   "execution_count": null,
   "metadata": {},
   "outputs": [],
   "source": []
  },
  {
   "cell_type": "code",
   "execution_count": null,
   "metadata": {},
   "outputs": [],
   "source": []
  }
 ],
 "metadata": {
  "kernelspec": {
   "display_name": "cosmo",
   "language": "python",
   "name": "cosmo"
  },
  "language_info": {
   "codemirror_mode": {
    "name": "ipython",
    "version": 3
   },
   "file_extension": ".py",
   "mimetype": "text/x-python",
   "name": "python",
   "nbconvert_exporter": "python",
   "pygments_lexer": "ipython3",
   "version": "3.8.3"
  }
 },
 "nbformat": 4,
 "nbformat_minor": 2
}

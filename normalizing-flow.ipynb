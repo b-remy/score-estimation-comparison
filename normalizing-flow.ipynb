{
 "cells": [
  {
   "cell_type": "markdown",
   "metadata": {},
   "source": [
    "**Learning distribution with Neural Spline Flow**"
   ]
  },
  {
   "cell_type": "code",
   "execution_count": 1,
   "metadata": {},
   "outputs": [
    {
     "name": "stdout",
     "output_type": "stream",
     "text": [
      "Populating the interactive namespace from numpy and matplotlib\n"
     ]
    }
   ],
   "source": [
    "%pylab inline \n",
    "\n",
    "import jax\n",
    "import jax.numpy as jnp\n",
    "from jax.experimental import optix\n",
    "import haiku as hk\n",
    "import tensorflow_probability as tfp; tfp = tfp.experimental.substrates.jax\n",
    "from functools import partial\n",
    "from nf.real_nvp import RealNVP\n",
    "\n",
    "\n",
    "tfd = tfp.distributions\n",
    "tfb = tfp.bijectors"
   ]
  },
  {
   "cell_type": "code",
   "execution_count": null,
   "metadata": {},
   "outputs": [],
   "source": []
  },
  {
   "cell_type": "code",
   "execution_count": 2,
   "metadata": {},
   "outputs": [],
   "source": [
    "class NeuralSplineCoupling(hk.Module):\n",
    "    def __init__(self, nunits, name, nbins=32):\n",
    "        super(NeuralSplineCoupling, self).__init__(name=name)\n",
    "        self.nunits = nunits\n",
    "        self.nbins = nbins\n",
    "        \n",
    "    def bin_positions(self, x):\n",
    "        x = jnp.reshape(x, [-1, self.nunits, self.nbins])\n",
    "        return jax.nn.softmax(x, axis=-1) *  (2. - self.nbins * 1e-2) + 1e-2\n",
    "  \n",
    "    def slopes(self, x):\n",
    "        x = jnp.reshape(x, [-1, self.nunits, self.nbins - 1])\n",
    "        return jax.nn.softplus(x) + 1e-2\n",
    "    \n",
    "    def __call__(self, x, nunits):\n",
    "        net = jax.nn.leaky_relu(hk.Linear(128)(x))\n",
    "        net = jax.nn.leaky_relu(hk.Linear(128)(net))\n",
    "\n",
    "        bin_widths = self.bin_positions(hk.Linear(nunits*self.nbins)(net))\n",
    "        bin_heights = self.bin_positions(hk.Linear(nunits*self.nbins)(net))\n",
    "        knot_slopes = self.slopes(hk.Linear(nunits*(self.nbins-1))(net))\n",
    "\n",
    "        return tfb.RationalQuadraticSpline(\n",
    "                bin_widths=bin_widths,\n",
    "                bin_heights=bin_heights,\n",
    "                knot_slopes=knot_slopes)"
   ]
  },
  {
   "cell_type": "code",
   "execution_count": 3,
   "metadata": {},
   "outputs": [],
   "source": [
    "class NeuralSplineFlow(hk.Module):\n",
    "    def __init__(self):\n",
    "        super(NeuralSplineFlow, self).__init__()\n",
    "    \n",
    "    def __call__(self, x):\n",
    "        spline1 = NeuralSplineCoupling(1, 'coupling1')\n",
    "        spline2 = NeuralSplineCoupling(1, 'coupling2')\n",
    "\n",
    "        # Computes the likelihood of these x\n",
    "        chain = tfb.Chain([\n",
    "            tfb.Scale(10),\n",
    "            RealNVP(1, bijector_fn=spline1),\n",
    "            tfb.Permute([1,0]),\n",
    "            RealNVP(1, bijector_fn=spline2),\n",
    "            tfb.Permute([1,0]),\n",
    "            tfb.Scale(0.1)\n",
    "        ])\n",
    "\n",
    "        nvp = tfd.TransformedDistribution(\n",
    "                tfd.Normal(0,1),\n",
    "                bijector=chain,\n",
    "                event_shape=(2,))\n",
    "\n",
    "        return nvp.log_prob(x)"
   ]
  },
  {
   "cell_type": "code",
   "execution_count": 4,
   "metadata": {},
   "outputs": [],
   "source": [
    "def forward2(x):\n",
    "    flow = NeuralSplineFlow()\n",
    "    return flow(x)\n",
    "             \n",
    "model = hk.transform(forward2, apply_rng=True)"
   ]
  },
  {
   "cell_type": "code",
   "execution_count": 5,
   "metadata": {},
   "outputs": [],
   "source": [
    "optimizer = optix.adam(1e-3)"
   ]
  },
  {
   "cell_type": "code",
   "execution_count": 6,
   "metadata": {},
   "outputs": [],
   "source": [
    "# Now let's draw ou famous two moons\n",
    "from sklearn import datasets\n",
    "\n",
    "# Experimenting with only a fixed number of points\n",
    "batch_size=512\n",
    "def get_batch():\n",
    "    x, y = datasets.make_moons(n_samples=batch_size, noise=.05)\n",
    "    return {'x': x}"
   ]
  },
  {
   "cell_type": "code",
   "execution_count": 7,
   "metadata": {},
   "outputs": [],
   "source": [
    "@jax.jit\n",
    "def loss_fn(params, rng_key, batch):\n",
    "    log_prob = model.apply(params, rng_key, batch['x'])\n",
    "    return -jnp.mean(log_prob)"
   ]
  },
  {
   "cell_type": "code",
   "execution_count": 8,
   "metadata": {},
   "outputs": [],
   "source": [
    "@jax.jit\n",
    "def update(params, rng_key, opt_state, batch):\n",
    "    loss, grads = jax.value_and_grad(loss_fn)(params, rng_key, batch)\n",
    "    updates, new_opt_state = optimizer.update(grads, opt_state)\n",
    "    new_params = optix.apply_updates(params, updates)\n",
    "    return loss, new_params, new_opt_state"
   ]
  },
  {
   "cell_type": "code",
   "execution_count": 9,
   "metadata": {},
   "outputs": [
    {
     "name": "stderr",
     "output_type": "stream",
     "text": [
      "/Users/br263581/opt/anaconda3/envs/cosmo/lib/python3.7/site-packages/jax/lib/xla_bridge.py:130: UserWarning: No GPU/TPU found, falling back to CPU.\n",
      "  warnings.warn('No GPU/TPU found, falling back to CPU.')\n",
      "/Users/br263581/opt/anaconda3/envs/cosmo/lib/python3.7/site-packages/jax/lax/lax.py:5946: UserWarning: Explicitly requested dtype <class 'jax.numpy.lax_numpy.int64'> requested in zeros is not available, and will be truncated to dtype int32. To enable more dtypes, set the jax_enable_x64 configuration option or the JAX_ENABLE_X64 shell environment variable. See https://github.com/google/jax#current-gotchas for more.\n",
      "  warnings.warn(msg.format(dtype, fun_name , truncated_dtype))\n",
      "/Users/br263581/opt/anaconda3/envs/cosmo/lib/python3.7/site-packages/jax/lax/lax.py:5946: UserWarning: Explicitly requested dtype <class 'jax.numpy.lax_numpy.int64'> requested in astype is not available, and will be truncated to dtype int32. To enable more dtypes, set the jax_enable_x64 configuration option or the JAX_ENABLE_X64 shell environment variable. See https://github.com/google/jax#current-gotchas for more.\n",
      "  warnings.warn(msg.format(dtype, fun_name , truncated_dtype))\n",
      "/Users/br263581/opt/anaconda3/envs/cosmo/lib/python3.7/site-packages/jax/numpy/lax_numpy.py:1601: FutureWarning: jax.numpy reductions won't accept lists and tuples in future versions, only scalars and ndarrays\n",
      "  warnings.warn(msg, category=FutureWarning)\n"
     ]
    }
   ],
   "source": [
    "rng_seq = hk.PRNGSequence(42)\n",
    "params = model.init(next(rng_seq), jnp.zeros((1, 2)))\n",
    "opt_state = optimizer.init(params)\n"
   ]
  },
  {
   "cell_type": "code",
   "execution_count": 10,
   "metadata": {},
   "outputs": [
    {
     "name": "stdout",
     "output_type": "stream",
     "text": [
      "2.5465732\n",
      "0.9839745\n",
      "0.65465385\n",
      "0.47774997\n",
      "0.36309004\n",
      "0.38658953\n",
      "0.37360987\n",
      "0.34548983\n",
      "0.4188112\n",
      "0.36877048\n",
      "0.3445761\n",
      "0.3116484\n",
      "0.32730252\n",
      "0.38110623\n",
      "0.3694005\n",
      "0.3528385\n",
      "0.30911326\n",
      "0.33035502\n",
      "0.30382782\n",
      "0.36505422\n"
     ]
    }
   ],
   "source": [
    "losses = []\n",
    "for step in range(2000):\n",
    "    batch = get_batch()\n",
    "    loss, params, opt_state = update(params, next(rng_seq), opt_state, batch)\n",
    "    losses.append(loss)\n",
    "    if step%100==0:\n",
    "        print(loss)"
   ]
  },
  {
   "cell_type": "code",
   "execution_count": 11,
   "metadata": {},
   "outputs": [
    {
     "data": {
      "text/plain": [
       "[<matplotlib.lines.Line2D at 0x14654ed50>]"
      ]
     },
     "execution_count": 11,
     "metadata": {},
     "output_type": "execute_result"
    },
    {
     "data": {
      "image/png": "[encoded data removed]",
      "text/plain": [
       "<Figure size 432x288 with 1 Axes>"
      ]
     },
     "metadata": {
      "needs_background": "light"
     },
     "output_type": "display_data"
    }
   ],
   "source": [
    "plot(losses)"
   ]
  },
  {
   "cell_type": "code",
   "execution_count": 12,
   "metadata": {},
   "outputs": [
    {
     "name": "stdout",
     "output_type": "stream",
     "text": [
      "KeysOnlyKeysView(['neural_spline_flow/coupling1/linear', 'neural_spline_flow/coupling1/linear_1', 'neural_spline_flow/coupling1/linear_2', 'neural_spline_flow/coupling1/linear_3', 'neural_spline_flow/coupling1/linear_4', 'neural_spline_flow/coupling2/linear', 'neural_spline_flow/coupling2/linear_1', 'neural_spline_flow/coupling2/linear_2', 'neural_spline_flow/coupling2/linear_3', 'neural_spline_flow/coupling2/linear_4'])\n"
     ]
    }
   ],
   "source": [
    "print(params.keys())"
   ]
  },
  {
   "cell_type": "code",
   "execution_count": 13,
   "metadata": {},
   "outputs": [],
   "source": [
    "class NeuralSplineFlow(hk.Module):\n",
    "    def __init__(self):\n",
    "        super(NeuralSplineFlow, self).__init__()\n",
    "    \n",
    "    def __call__(self, key, n_samples):\n",
    "        spline1 = NeuralSplineCoupling(1, 'coupling1')\n",
    "        spline2 = NeuralSplineCoupling(1, 'coupling2')\n",
    "\n",
    "        # Computes the likelihood of these x\n",
    "        chain = tfb.Chain([\n",
    "            tfb.Scale(10),\n",
    "            RealNVP(1, bijector_fn=spline1),\n",
    "            tfb.Permute([1,0]),\n",
    "            RealNVP(1, bijector_fn=spline2),\n",
    "            tfb.Permute([1,0]),\n",
    "            tfb.Scale(0.1)\n",
    "        ])\n",
    "\n",
    "        nvp = tfd.TransformedDistribution(\n",
    "                tfd.Normal(0,1),\n",
    "                bijector=chain,\n",
    "                event_shape=(2,))\n",
    "\n",
    "        return nvp.sample(n_samples, seed=key)"
   ]
  },
  {
   "cell_type": "code",
   "execution_count": 14,
   "metadata": {},
   "outputs": [],
   "source": [
    "def forward3(key, n_samples):\n",
    "    sampler = NeuralSplineFlow()\n",
    "    return sampler(key, n_samples)\n",
    "\n",
    "s = hk.transform(forward3, apply_rng=True)"
   ]
  },
  {
   "cell_type": "code",
   "execution_count": 15,
   "metadata": {},
   "outputs": [],
   "source": [
    "#sampler = partial(s.apply, params, None)\n",
    "sampler = partial(s.apply, params, None)"
   ]
  },
  {
   "cell_type": "code",
   "execution_count": 16,
   "metadata": {},
   "outputs": [],
   "source": [
    "samps = sampler(jax.random.PRNGKey(1),10000)"
   ]
  },
  {
   "cell_type": "code",
   "execution_count": 17,
   "metadata": {},
   "outputs": [
    {
     "data": {
      "image/png": "[encoded data removed]",
      "text/plain": [
       "<Figure size 432x288 with 1 Axes>"
      ]
     },
     "metadata": {
      "needs_background": "light"
     },
     "output_type": "display_data"
    }
   ],
   "source": [
    "hist2d(samps[:,0], samps[:,1],64, range=[[-1.2,2.2],[-0.6,1.1]]);"
   ]
  },
  {
   "cell_type": "code",
   "execution_count": null,
   "metadata": {},
   "outputs": [],
   "source": []
  },
  {
   "cell_type": "code",
   "execution_count": null,
   "metadata": {},
   "outputs": [],
   "source": []
  },
  {
   "cell_type": "code",
   "execution_count": null,
   "metadata": {},
   "outputs": [],
   "source": []
  },
  {
   "cell_type": "code",
   "execution_count": null,
   "metadata": {},
   "outputs": [],
   "source": []
  }
 ],
 "metadata": {
  "kernelspec": {
   "display_name": "Python (cosmo)",
   "language": "python",
   "name": "cosmo"
  },
  "language_info": {
   "codemirror_mode": {
    "name": "ipython",
    "version": 3
   },
   "file_extension": ".py",
   "mimetype": "text/x-python",
   "name": "python",
   "nbconvert_exporter": "python",
   "pygments_lexer": "ipython3",
   "version": "3.7.7"
  }
 },
 "nbformat": 4,
 "nbformat_minor": 2
}

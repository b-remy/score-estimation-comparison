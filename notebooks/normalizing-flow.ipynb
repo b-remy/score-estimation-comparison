{
 "cells": [
  {
   "cell_type": "markdown",
   "metadata": {},
   "source": [
    "**Learning distribution with Neural Spline Flow**"
   ]
  },
  {
   "cell_type": "code",
   "execution_count": 1,
   "metadata": {},
   "outputs": [
    {
     "name": "stdout",
     "output_type": "stream",
     "text": [
      "Populating the interactive namespace from numpy and matplotlib\n"
     ]
    }
   ],
   "source": [
    "%pylab inline\n",
    "%load_ext autoreload\n",
    "%autoreload 2\n",
    "\n",
    "import jax\n",
    "import jax.numpy as jnp\n",
    "from jax.experimental import optix\n",
    "import haiku as hk\n",
    "import tensorflow_probability as tfpp; tfp = tfpp.experimental.substrates.jax\n",
    "from functools import partial\n",
    "\n",
    "from nsec.models.nflow.nsf import NeuralSplineCoupling, NeuralSplineFlow\n",
    "from nsec.datasets.gaussian_mixture import get_gm\n",
    "from nsec.utils import display_score_gm\n",
    "\n",
    "tfd = tfp.distributions\n",
    "tfb = tfp.bijectors"
   ]
  },
  {
   "cell_type": "code",
   "execution_count": 2,
   "metadata": {},
   "outputs": [
    {
     "name": "stdout",
     "output_type": "stream",
     "text": [
      "TFP Version 0.11.0\n",
      "JAX  Version 0.1.73\n",
      "Haiku  Version 0.0.2\n"
     ]
    }
   ],
   "source": [
    "print(\"TFP Version\", tfpp.__version__)\n",
    "print(\"JAX  Version\",jax.__version__)\n",
    "print(\"Haiku  Version\",hk.__version__)"
   ]
  },
  {
   "cell_type": "markdown",
   "metadata": {},
   "source": [
    "```\n",
    "class NeuralSplineCoupling(hk.Module):\n",
    "    def __init__(self, nunits, name, nbins=32):\n",
    "        super(NeuralSplineCoupling, self).__init__(name=name)\n",
    "        self.nunits = nunits\n",
    "        self.nbins = nbins\n",
    "        \n",
    "    def bin_positions(self, x):\n",
    "        x = jnp.reshape(x, [-1, self.nunits, self.nbins])\n",
    "        return jax.nn.softmax(x, axis=-1) *  (2. - self.nbins * 1e-2) + 1e-2\n",
    "  \n",
    "    def slopes(self, x):\n",
    "        x = jnp.reshape(x, [-1, self.nunits, self.nbins - 1])\n",
    "        return jax.nn.softplus(x) + 1e-2\n",
    "    \n",
    "    def __call__(self, x, nunits):\n",
    "        #net = jax.nn.leaky_relu(hk.Linear(128)(x))\n",
    "        #net = jax.nn.leaky_relu(hk.Linear(128)(net))\n",
    "        net = jnp.tanh(hk.Linear(128)(x))\n",
    "        net = jnp.tanh(hk.Linear(128)(net))\n",
    "\n",
    "        bin_widths = self.bin_positions(hk.Linear(nunits*self.nbins)(net))\n",
    "        bin_heights = self.bin_positions(hk.Linear(nunits*self.nbins)(net))\n",
    "        knot_slopes = self.slopes(hk.Linear(nunits*(self.nbins-1))(net))\n",
    "\n",
    "        return tfb.RationalQuadraticSpline(\n",
    "                bin_widths=bin_widths,\n",
    "                bin_heights=bin_heights,\n",
    "                knot_slopes=knot_slopes)\n",
    "```"
   ]
  },
  {
   "cell_type": "markdown",
   "metadata": {},
   "source": [
    "```\n",
    "class NeuralSplineFlow(hk.Module):\n",
    "    def __init__(self):\n",
    "        super(NeuralSplineFlow, self).__init__()\n",
    "    \n",
    "    def __call__(self, x):\n",
    "        spline1 = NeuralSplineCoupling(1, 'coupling1')\n",
    "        spline2 = NeuralSplineCoupling(1, 'coupling2')\n",
    "        spline3 = NeuralSplineCoupling(1, 'coupling3')\n",
    "\n",
    "        # Computes the likelihood of these x\n",
    "        chain = tfb.Chain([\n",
    "            tfb.Scale(10),\n",
    "            RealNVP(1, bijector_fn=spline1),\n",
    "            tfb.Permute([1,0]),\n",
    "            RealNVP(1, bijector_fn=spline2),\n",
    "            tfb.Permute([1,0]),\n",
    "            RealNVP(1, bijector_fn=spline3),\n",
    "            tfb.Permute([1,0]),\n",
    "            tfb.Scale(0.1)\n",
    "        ])\n",
    "\n",
    "        nvp = tfd.TransformedDistribution(\n",
    "                tfd.Normal(0,1),\n",
    "                bijector=chain,\n",
    "                event_shape=(2,))\n",
    "\n",
    "        return nvp.log_prob(x)\n",
    "```"
   ]
  },
  {
   "cell_type": "code",
   "execution_count": 9,
   "metadata": {},
   "outputs": [],
   "source": [
    "def forwardNF(x):\n",
    "    flow = NeuralSplineFlow()\n",
    "    return flow(x)\n",
    "             \n",
    "model_NF = hk.transform(forwardNF, apply_rng=True)"
   ]
  },
  {
   "cell_type": "code",
   "execution_count": 10,
   "metadata": {},
   "outputs": [],
   "source": [
    "optimizer = optix.adam(1e-4)\n",
    "rng_seq = hk.PRNGSequence(42)"
   ]
  },
  {
   "cell_type": "code",
   "execution_count": 11,
   "metadata": {},
   "outputs": [],
   "source": [
    "\n",
    "\"\"\"\n",
    "# Now let's draw ou famous two moons\n",
    "from sklearn import datasets\n",
    "\n",
    "# Experimenting with only a fixed number of points\n",
    "batch_size=512\n",
    "\n",
    "def get_batch():\n",
    "    x, y = datasets.make_moons(n_samples=batch_size, noise=.05)\n",
    "    return {'x': x}\n",
    "\"\"\"\n",
    "from nsec.datasets.two_moons import get_two_moons\n",
    "two_moons = get_two_moons(0.05)\n",
    "distribution = two_moons\n",
    "true_score = jax.vmap(jax.grad(distribution.log_prob))\n",
    "\n",
    "batch_size = 512\n",
    "\n",
    "def make_samples(rng_seq, n_samples, gm):\n",
    "    return gm.sample(n_samples, seed = next(rng_seq))\n",
    "\n",
    "def get_batch():\n",
    "    x = make_samples(rng_seq, batch_size,distribution)\n",
    "    return {'x': x}"
   ]
  },
  {
   "cell_type": "markdown",
   "metadata": {},
   "source": [
    "def make_mixture(rng_seq, n_samples, gm):\n",
    "    return gm.sample(n_samples, seed = next(rng_seq))\n",
    "\n",
    "noise = 1.\n",
    "p = 0.2\n",
    "batch_size=1000\n",
    "\n",
    "gm = get_gm(p, noise)\n",
    "\n",
    "distribution = gm\n",
    "\n",
    "def get_batch():\n",
    "    x = make_mixture(rng_seq, batch_size,gm)\n",
    "    return {'x': x}\n",
    "\n",
    "true_score = jax.vmap(jax.grad(distribution.log_prob))\n"
   ]
  },
  {
   "cell_type": "code",
   "execution_count": 12,
   "metadata": {},
   "outputs": [],
   "source": [
    "@jax.jit\n",
    "def loss_fn(params, rng_key, batch):\n",
    "    log_prob = model_NF.apply(params, rng_key, batch['x'])\n",
    "    return -jnp.mean(log_prob)"
   ]
  },
  {
   "cell_type": "code",
   "execution_count": 13,
   "metadata": {},
   "outputs": [],
   "source": [
    "@jax.jit\n",
    "def update(params, rng_key, opt_state, batch):\n",
    "    loss, grads = jax.value_and_grad(loss_fn)(params, rng_key, batch)\n",
    "    updates, new_opt_state = optimizer.update(grads, opt_state)\n",
    "    new_params = optix.apply_updates(params, updates)\n",
    "    return loss, new_params, new_opt_state"
   ]
  },
  {
   "cell_type": "code",
   "execution_count": 14,
   "metadata": {},
   "outputs": [
    {
     "name": "stderr",
     "output_type": "stream",
     "text": [
      "/Users/br263581/opt/anaconda3/envs/cosmo/lib/python3.7/site-packages/jax/lax/lax.py:5946: UserWarning: Explicitly requested dtype <class 'jax.numpy.lax_numpy.int64'> requested in zeros is not available, and will be truncated to dtype int32. To enable more dtypes, set the jax_enable_x64 configuration option or the JAX_ENABLE_X64 shell environment variable. See https://github.com/google/jax#current-gotchas for more.\n",
      "  warnings.warn(msg.format(dtype, fun_name , truncated_dtype))\n",
      "/Users/br263581/opt/anaconda3/envs/cosmo/lib/python3.7/site-packages/jax/lax/lax.py:5946: UserWarning: Explicitly requested dtype <class 'jax.numpy.lax_numpy.int64'> requested in astype is not available, and will be truncated to dtype int32. To enable more dtypes, set the jax_enable_x64 configuration option or the JAX_ENABLE_X64 shell environment variable. See https://github.com/google/jax#current-gotchas for more.\n",
      "  warnings.warn(msg.format(dtype, fun_name , truncated_dtype))\n",
      "/Users/br263581/opt/anaconda3/envs/cosmo/lib/python3.7/site-packages/jax/numpy/lax_numpy.py:1601: FutureWarning: jax.numpy reductions won't accept lists and tuples in future versions, only scalars and ndarrays\n",
      "  warnings.warn(msg, category=FutureWarning)\n",
      "/Users/br263581/opt/anaconda3/envs/cosmo/lib/python3.7/site-packages/jax/lax/lax.py:5946: UserWarning: Explicitly requested dtype int64 requested in astype is not available, and will be truncated to dtype int32. To enable more dtypes, set the jax_enable_x64 configuration option or the JAX_ENABLE_X64 shell environment variable. See https://github.com/google/jax#current-gotchas for more.\n",
      "  warnings.warn(msg.format(dtype, fun_name , truncated_dtype))\n"
     ]
    }
   ],
   "source": [
    "params = model_NF.init(next(rng_seq), jnp.zeros((1, 2)))\n",
    "opt_state = optimizer.init(params)"
   ]
  },
  {
   "cell_type": "code",
   "execution_count": 15,
   "metadata": {},
   "outputs": [
    {
     "name": "stdout",
     "output_type": "stream",
     "text": [
      "2.4737506\n",
      "1.884132\n",
      "1.5781745\n",
      "1.4697741\n",
      "1.3218837\n",
      "1.1690726\n",
      "1.05673\n",
      "0.84598684\n",
      "0.7745509\n",
      "0.666816\n",
      "0.66688174\n",
      "0.64261293\n",
      "0.61867887\n",
      "0.5407833\n",
      "0.56385726\n",
      "0.4995059\n",
      "0.56904316\n",
      "0.52711076\n",
      "0.36571127\n",
      "0.4602614\n"
     ]
    }
   ],
   "source": [
    "losses = []\n",
    "for step in range(2000):\n",
    "    batch = get_batch()\n",
    "    loss, params, opt_state = update(params, next(rng_seq), opt_state, batch)\n",
    "    losses.append(loss)\n",
    "    if step%100==0:\n",
    "        print(loss)"
   ]
  },
  {
   "cell_type": "code",
   "execution_count": 16,
   "metadata": {},
   "outputs": [
    {
     "data": {
      "text/plain": [
       "[<matplotlib.lines.Line2D at 0x14cf084d0>]"
      ]
     },
     "execution_count": 16,
     "metadata": {},
     "output_type": "execute_result"
    },
    {
     "data": {
      "image/png": "[encoded data removed]",
      "text/plain": [
       "<Figure size 432x288 with 1 Axes>"
      ]
     },
     "metadata": {
      "needs_background": "light"
     },
     "output_type": "display_data"
    }
   ],
   "source": [
    "plot(losses)"
   ]
  },
  {
   "cell_type": "code",
   "execution_count": 17,
   "metadata": {},
   "outputs": [
    {
     "name": "stdout",
     "output_type": "stream",
     "text": [
      "(16384, 2) float32\n"
     ]
    }
   ],
   "source": [
    "#xc,yc = meshgrid(linspace(-1.5,2.5,204),linspace(-1.,1.5,128))\n",
    "xc,yc = meshgrid(linspace(-7.,7.,128),linspace(-7.,7.,128))\n",
    "Z = stack([xc.flatten(), yc.flatten()],axis=1).astype('float32')\n",
    "print(Z.shape, Z.dtype)"
   ]
  },
  {
   "cell_type": "code",
   "execution_count": 19,
   "metadata": {},
   "outputs": [],
   "source": [
    "S = model_NF.apply(params, next(rng_seq), Z)"
   ]
  },
  {
   "cell_type": "code",
   "execution_count": null,
   "metadata": {},
   "outputs": [],
   "source": []
  },
  {
   "cell_type": "code",
   "execution_count": 20,
   "metadata": {},
   "outputs": [
    {
     "data": {
      "text/plain": [
       "<matplotlib.colorbar.Colorbar at 0x14c661750>"
      ]
     },
     "execution_count": 20,
     "metadata": {},
     "output_type": "execute_result"
    },
    {
     "data": {
      "image/png": "[encoded data removed]",
      "text/plain": [
       "<Figure size 600x400 with 2 Axes>"
      ]
     },
     "metadata": {
      "needs_background": "light"
     },
     "output_type": "display_data"
    }
   ],
   "source": [
    "figure(dpi=100)\n",
    "#imshow(exp(S.reshape((128,204))), cmap='Oranges', origin='lower')\n",
    "imshow(exp(S.reshape((128,128))), cmap='Oranges', origin='lower')\n",
    "#axis('off')\n",
    "colorbar()"
   ]
  },
  {
   "cell_type": "code",
   "execution_count": 21,
   "metadata": {},
   "outputs": [],
   "source": [
    "# Let's compute the score function (gradient of the log likelihood)\n",
    "log_prob = partial(model_NF.apply, params, next(rng_seq))\n",
    "log_prob(jnp.zeros(2).reshape(1,2)).shape\n",
    "\n",
    "def log_prob_reshaped(x):\n",
    "    return jnp.reshape(log_prob(x), ())\n",
    "\n",
    "score = jax.vmap(jax.grad(log_prob_reshaped))"
   ]
  },
  {
   "cell_type": "code",
   "execution_count": 22,
   "metadata": {},
   "outputs": [
    {
     "data": {
      "text/plain": [
       "DeviceArray([[[55.70655 , 19.722857]],\n",
       "\n",
       "             [[55.70655 , 19.722857]],\n",
       "\n",
       "             [[55.70655 , 19.722857]],\n",
       "\n",
       "             [[55.70655 , 19.722857]],\n",
       "\n",
       "             [[55.70655 , 19.722857]]], dtype=float32)"
      ]
     },
     "execution_count": 22,
     "metadata": {},
     "output_type": "execute_result"
    }
   ],
   "source": [
    "v_batched = jnp.zeros(10).reshape(5,1,2)\n",
    "score(v_batched)"
   ]
  },
  {
   "cell_type": "code",
   "execution_count": 25,
   "metadata": {},
   "outputs": [],
   "source": [
    "#display_score_gm(score, distribution, dpi=150)"
   ]
  },
  {
   "cell_type": "code",
   "execution_count": 26,
   "metadata": {},
   "outputs": [
    {
     "data": {
      "image/png": "[encoded data removed]",
      "text/plain": [
       "<Figure size 600x400 with 3 Axes>"
      ]
     },
     "metadata": {
      "needs_background": "light"
     },
     "output_type": "display_data"
    }
   ],
   "source": [
    "from nsec.utils import display_score_error_gm, display_score_error_two_moons\n",
    "\n",
    "scores = [score]\n",
    "labels = ['NFlow']\n",
    "\n",
    "plt.figure(dpi=100)\n",
    "display_score_error_two_moons(true_score, scores, labels, distribution=None, is_amortized=False, is_reg=False, scale=4, offset=[0., 0.], is_NF=True)"
   ]
  },
  {
   "cell_type": "code",
   "execution_count": null,
   "metadata": {},
   "outputs": [],
   "source": [
    "distribution=None\n",
    "is_amortized=False\n",
    "is_reg=False\n",
    "scale=4\n",
    "offset=[0., 0.]\n",
    "is_NF=True\n",
    "estimated_scores = scores\n",
    "\n",
    "scale = scale\n",
    "offset = jnp.array(offset)\n",
    "d_offset = jnp.array([.5, .25])\n",
    "\n",
    "c1 = scale * (jnp.array([-.7, -0.5])) + d_offset + offset\n",
    "c2 = scale * (jnp.array([.7, 0.5])) + d_offset + offset\n",
    "#X = jnp.arange(c1[0], c2[0], 0.1)\n",
    "#Y = jnp.arange(c1[1], c2[1], 0.1)\n",
    "n = 100\n",
    "X = jnp.linspace(c1[0], c2[0], int(n*7/5))\n",
    "Y = jnp.linspace(c1[1], c2[1], n)\n",
    "\n",
    "if distribution:\n",
    "    _x, _y = jnp.meshgrid(jnp.arange(0, len(X), 1), jnp.arange(0, len(Y), 1))\n",
    "    Z = jnp.stack(jnp.meshgrid(X, Y), axis=-1).reshape((-1, 2))\n",
    "    S = distribution.log_prob(Z)\n",
    "    dist = jnp.exp(S.reshape((len(Y), len(X))))\n",
    "\n",
    "if is_NF:\n",
    "    points = jnp.stack(jnp.meshgrid(X, Y), axis=-1).reshape((-1, 1, 2))\n",
    "else:\n",
    "    points = jnp.stack(jnp.meshgrid(X, Y), axis=-1).reshape((-1, 2))\n",
    "\n",
    "true_s = true_score(points.reshape((-1, 2)))\n",
    "true_s = true_s.reshape([len(Y), len(X),2])/jnp.linalg.norm(true_s)\n",
    "n_s = len(labels)\n",
    "estimated_vector_fileds = []\n",
    "errors = []\n",
    "\n",
    "for score in estimated_scores:\n",
    "    if is_amortized:\n",
    "        if is_reg:\n",
    "            estimated_s, state = score(points, 0.0*jnp.ones((len(points),1)))\n",
    "        else:\n",
    "            estimated_s = score(points, 0.0*jnp.ones((len(points),1)))\n",
    "    else:\n",
    "        if is_reg:\n",
    "            estimated_s, state = score(points)\n",
    "        else:\n",
    "            estimated_s = score(points)\n",
    "    estimated_s = estimated_s.reshape([len(Y), len(X),2])/jnp.linalg.norm(estimated_s)\n",
    "    estimated_vector_fileds.append(estimated_s)\n",
    "    \n",
    "    print(estimated_s.shape)\n",
    "    print(true_s.shape)\n",
    "    errors.append(jnp.linalg.norm(estimated_s - true_s, axis=2))\n",
    "\n",
    "v_min = jnp.min([jnp.min(e) for e in errors])\n",
    "v_max = jnp.max([jnp.max(e) for e in errors])\n",
    "\n",
    "for i in range(n_s):\n",
    "    plt.subplot(n_s, 2, 2*i+1)\n",
    "    plt.imshow(errors[i], origin='lower', vmin=v_min, vmax=v_max)\n",
    "    plt.axis('off')\n",
    "    plt.colorbar()\n",
    "    if distribution:\n",
    "        plt.contour(_x, _y, dist, levels=[1], colors='white')\n",
    "    plt.title('Score error ({}), avg={:.2e}'.format(labels[i], jnp.mean(errors[i])), fontsize=9)\n",
    "    plt.subplot(n_s, 2, 2*i+2)\n",
    "\n",
    "    g = estimated_vector_fileds[i]\n",
    "\n",
    "    print(X[::4].shape)\n",
    "    plt.quiver(X[::4], Y[::4], g[::4,::4,0], g[::4,::4,1])\n",
    "    plt.axis('off')\n",
    "\n",
    "plt.tight_layout()"
   ]
  },
  {
   "cell_type": "code",
   "execution_count": null,
   "metadata": {},
   "outputs": [],
   "source": []
  },
  {
   "cell_type": "code",
   "execution_count": null,
   "metadata": {},
   "outputs": [],
   "source": []
  },
  {
   "cell_type": "code",
   "execution_count": null,
   "metadata": {},
   "outputs": [],
   "source": []
  },
  {
   "cell_type": "code",
   "execution_count": null,
   "metadata": {},
   "outputs": [],
   "source": []
  },
  {
   "cell_type": "code",
   "execution_count": null,
   "metadata": {},
   "outputs": [],
   "source": []
  },
  {
   "cell_type": "code",
   "execution_count": null,
   "metadata": {},
   "outputs": [],
   "source": []
  },
  {
   "cell_type": "raw",
   "metadata": {},
   "source": [
    "class NeuralSplineFlow(hk.Module):\n",
    "    def __init__(self):\n",
    "        super(NeuralSplineFlow, self).__init__()\n",
    "    \n",
    "    def __call__(self, key, n_samples):\n",
    "        spline1 = NeuralSplineCoupling(1, 'coupling1')\n",
    "        spline2 = NeuralSplineCoupling(1, 'coupling2')\n",
    "\n",
    "        # Computes the likelihood of these x\n",
    "        chain = tfb.Chain([\n",
    "            tfb.Scale(10),\n",
    "            RealNVP(1, bijector_fn=spline1),\n",
    "            tfb.Permute([1,0]),\n",
    "            RealNVP(1, bijector_fn=spline2),\n",
    "            tfb.Permute([1,0]),\n",
    "            tfb.Scale(0.1)\n",
    "        ])\n",
    "\n",
    "        nvp = tfd.TransformedDistribution(\n",
    "                tfd.Normal(0,1),\n",
    "                bijector=chain,\n",
    "                event_shape=(2,))\n",
    "\n",
    "        return nvp.sample(n_samples, seed=key)"
   ]
  },
  {
   "cell_type": "raw",
   "metadata": {},
   "source": [
    "def forward3(key, n_samples):\n",
    "    sampler = NeuralSplineFlow()\n",
    "    return sampler(key, n_samples)\n",
    "\n",
    "s = hk.transform(forward3, apply_rng=True)"
   ]
  },
  {
   "cell_type": "raw",
   "metadata": {},
   "source": [
    "#sampler = partial(s.apply, params, None)\n",
    "sampler = partial(s.apply, params, None)"
   ]
  },
  {
   "cell_type": "raw",
   "metadata": {},
   "source": [
    "samps = sampler(jax.random.PRNGKey(1),10000)"
   ]
  },
  {
   "cell_type": "raw",
   "metadata": {},
   "source": [
    "hist2d(samps[:,0], samps[:,1],64, range=[[-1.2,2.2],[-0.6,1.1]]);"
   ]
  },
  {
   "cell_type": "code",
   "execution_count": null,
   "metadata": {},
   "outputs": [],
   "source": []
  },
  {
   "cell_type": "code",
   "execution_count": null,
   "metadata": {},
   "outputs": [],
   "source": []
  },
  {
   "cell_type": "code",
   "execution_count": null,
   "metadata": {},
   "outputs": [],
   "source": []
  },
  {
   "cell_type": "code",
   "execution_count": null,
   "metadata": {},
   "outputs": [],
   "source": []
  },
  {
   "cell_type": "code",
   "execution_count": null,
   "metadata": {},
   "outputs": [],
   "source": []
  },
  {
   "cell_type": "code",
   "execution_count": null,
   "metadata": {},
   "outputs": [],
   "source": []
  },
  {
   "cell_type": "code",
   "execution_count": null,
   "metadata": {},
   "outputs": [],
   "source": []
  },
  {
   "cell_type": "code",
   "execution_count": null,
   "metadata": {},
   "outputs": [],
   "source": []
  }
 ],
 "metadata": {
  "kernelspec": {
   "display_name": "Python (cosmo)",
   "language": "python",
   "name": "cosmo"
  },
  "language_info": {
   "codemirror_mode": {
    "name": "ipython",
    "version": 3
   },
   "file_extension": ".py",
   "mimetype": "text/x-python",
   "name": "python",
   "nbconvert_exporter": "python",
   "pygments_lexer": "ipython3",
   "version": "3.7.7"
  }
 },
 "nbformat": 4,
 "nbformat_minor": 2
}

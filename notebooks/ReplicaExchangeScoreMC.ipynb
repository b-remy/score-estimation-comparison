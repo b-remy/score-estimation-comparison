{
 "cells": [
  {
   "cell_type": "code",
   "execution_count": 1,
   "metadata": {},
   "outputs": [
    {
     "name": "stdout",
     "output_type": "stream",
     "text": [
      "Populating the interactive namespace from numpy and matplotlib\n"
     ]
    }
   ],
   "source": [
    "%pylab inline\n",
    "import jax\n",
    "import jax.numpy as np\n",
    "import tensorflow_probability as tfp; tfp = tfp.experimental.substrates.jax\n",
    "tfd = tfp.distributions\n",
    "from nsec.samplers import ScoreHamiltonianMonteCarlo\n",
    "from nsec.datasets.two_moons import get_two_moons\n",
    "from nsec.replica_exchange_mc import ReplicaExchangeMC"
   ]
  },
  {
   "cell_type": "code",
   "execution_count": 7,
   "metadata": {},
   "outputs": [],
   "source": [
    "from functools import partial\n",
    "\n",
    "def logp(x, sigma):\n",
    "    return get_two_moons(sigma+0.01).log_prob(x).squeeze()\n",
    "\n",
    "dlogp = jax.jit(jax.grad(logp))\n",
    "\n",
    "def score(x, sigma):\n",
    "    sigma = sigma.reshape((4,1,1))\n",
    "    return np.expand_dims(np.stack([dlogp(x[i,0], sigma[i,0]) for i in range(4)],axis=0),axis=1)"
   ]
  },
  {
   "cell_type": "code",
   "execution_count": 8,
   "metadata": {},
   "outputs": [
    {
     "data": {
      "text/plain": [
       "(4,)"
      ]
     },
     "execution_count": 8,
     "metadata": {},
     "output_type": "execute_result"
    }
   ],
   "source": [
    "logp(np.zeros([4,1,2]).astype('float32'),\n",
    "      np.ones([4,1,1]).astype('float32')).shape"
   ]
  },
  {
   "cell_type": "code",
   "execution_count": 9,
   "metadata": {},
   "outputs": [
    {
     "data": {
      "text/plain": [
       "(4, 1, 2)"
      ]
     },
     "execution_count": 9,
     "metadata": {},
     "output_type": "execute_result"
    }
   ],
   "source": [
    "score(np.zeros([4,1,2]).astype('float32'),\n",
    "      np.ones([4,1,1]).astype('float32')).shape"
   ]
  },
  {
   "cell_type": "code",
   "execution_count": 10,
   "metadata": {},
   "outputs": [],
   "source": [
    "# def score(x, s):\n",
    "#     return np.zeros([4,1,2])"
   ]
  },
  {
   "cell_type": "code",
   "execution_count": 11,
   "metadata": {},
   "outputs": [],
   "source": [
    "sigmas = 0.25**np.arange(4).astype('float32')[::-1]\n",
    "step_size = 0.1*np.sqrt(sigmas).reshape((4,1,1))\n",
    "sigmas = np.concatenate([np.array([0.01]), sigmas[1:]],axis=-1)"
   ]
  },
  {
   "cell_type": "code",
   "execution_count": 12,
   "metadata": {},
   "outputs": [
    {
     "data": {
      "text/plain": [
       "DeviceArray([0.01  , 0.0625, 0.25  , 1.    ], dtype=float32)"
      ]
     },
     "execution_count": 12,
     "metadata": {},
     "output_type": "execute_result"
    }
   ],
   "source": [
    "sigmas"
   ]
  },
  {
   "cell_type": "code",
   "execution_count": 13,
   "metadata": {},
   "outputs": [
    {
     "data": {
      "text/plain": [
       "DeviceArray([[[0.0125]],\n",
       "\n",
       "             [[0.025 ]],\n",
       "\n",
       "             [[0.05  ]],\n",
       "\n",
       "             [[0.1   ]]], dtype=float32)"
      ]
     },
     "execution_count": 13,
     "metadata": {},
     "output_type": "execute_result"
    }
   ],
   "source": [
    "step_size"
   ]
  },
  {
   "cell_type": "code",
   "execution_count": 14,
   "metadata": {},
   "outputs": [],
   "source": [
    "def make_kernel_fn(target_log_prob_fn, target_score_fn):\n",
    "  return ScoreHamiltonianMonteCarlo(\n",
    "      target_log_prob_fn=target_log_prob_fn,\n",
    "      target_score_fn=target_score_fn,\n",
    "      step_size=step_size, \n",
    "      num_leapfrog_steps=3,\n",
    "      num_delta_logp_steps=4)"
   ]
  },
  {
   "cell_type": "code",
   "execution_count": 15,
   "metadata": {},
   "outputs": [],
   "source": [
    "remc = ReplicaExchangeMC(\n",
    "    target_score_fn=score,\n",
    "    inverse_temperatures=sigmas,\n",
    "    make_kernel_fn=make_kernel_fn,\n",
    "    num_delta_logp_steps=16)"
   ]
  },
  {
   "cell_type": "code",
   "execution_count": 16,
   "metadata": {},
   "outputs": [],
   "source": [
    "def trace_swaps(unused_state, results):\n",
    "  return (results.is_swap_proposed_adjacent,\n",
    "          results.is_swap_accepted_adjacent)"
   ]
  },
  {
   "cell_type": "code",
   "execution_count": 17,
   "metadata": {},
   "outputs": [],
   "source": [
    "num_results = int(1e4)\n",
    "num_burnin_steps = int(1e1)"
   ]
  },
  {
   "cell_type": "code",
   "execution_count": 18,
   "metadata": {
    "scrolled": false
   },
   "outputs": [
    {
     "name": "stderr",
     "output_type": "stream",
     "text": [
      "/home/francois/.local/lib/python3.8/site-packages/jax/lax/lax.py:5946: UserWarning: Explicitly requested dtype <class 'jax.numpy.lax_numpy.int64'> requested in astype is not available, and will be truncated to dtype int32. To enable more dtypes, set the jax_enable_x64 configuration option or the JAX_ENABLE_X64 shell environment variable. See https://github.com/google/jax#current-gotchas for more.\n",
      "  warnings.warn(msg.format(dtype, fun_name , truncated_dtype))\n",
      "/home/francois/.local/lib/python3.8/site-packages/jax/lax/lax.py:5946: UserWarning: Explicitly requested dtype <class 'jax.numpy.lax_numpy.int64'> requested in array is not available, and will be truncated to dtype int32. To enable more dtypes, set the jax_enable_x64 configuration option or the JAX_ENABLE_X64 shell environment variable. See https://github.com/google/jax#current-gotchas for more.\n",
      "  warnings.warn(msg.format(dtype, fun_name , truncated_dtype))\n"
     ]
    }
   ],
   "source": [
    "samples, (is_swap_proposed_adjacent, is_swap_accepted_adjacent) = tfp.mcmc.sample_chain(\n",
    "        num_results=num_results,\n",
    "        current_state=np.zeros([1,2]),\n",
    "        kernel=remc,\n",
    "        num_burnin_steps=num_burnin_steps,\n",
    "        trace_fn=trace_swaps,\n",
    "        seed=jax.random.PRNGKey(0))"
   ]
  },
  {
   "cell_type": "code",
   "execution_count": 20,
   "metadata": {},
   "outputs": [
    {
     "data": {
      "image/png": "[encoded data removed]",
      "text/plain": [
       "<Figure size 432x288 with 1 Axes>"
      ]
     },
     "metadata": {
      "needs_background": "light"
     },
     "output_type": "display_data"
    }
   ],
   "source": [
    "hist2d(samples[:,0,0],samples[:,0,1],64,\n",
    "       range=[[-1.1,2.1],[-0.6,1.1]],);"
   ]
  },
  {
   "cell_type": "code",
   "execution_count": 21,
   "metadata": {},
   "outputs": [],
   "source": [
    "dist_target=get_two_moons(sigmas[0]+0.02)"
   ]
  },
  {
   "cell_type": "code",
   "execution_count": 22,
   "metadata": {},
   "outputs": [],
   "source": [
    "samps = dist_target.sample(10000, seed=jax.random.PRNGKey(0))"
   ]
  },
  {
   "cell_type": "code",
   "execution_count": 23,
   "metadata": {},
   "outputs": [
    {
     "data": {
      "image/png": "[encoded data removed]",
      "text/plain": [
       "<Figure size 432x288 with 1 Axes>"
      ]
     },
     "metadata": {
      "needs_background": "light"
     },
     "output_type": "display_data"
    }
   ],
   "source": [
    "hist2d(samps[:,0],samps[:,1],64,\n",
    "       range=[[-1.1,2.1],[-0.6,1.1]],);"
   ]
  },
  {
   "cell_type": "code",
   "execution_count": 24,
   "metadata": {},
   "outputs": [],
   "source": [
    "# And just to compare, what would have happened if we only ran a normal\n",
    "# HMC in the same conditions\n",
    "hmc = tfp.mcmc.HamiltonianMonteCarlo(\n",
    "    target_log_prob_fn=dist_target.log_prob,\n",
    "    num_leapfrog_steps=3,\n",
    "    step_size=0.0125)"
   ]
  },
  {
   "cell_type": "code",
   "execution_count": 25,
   "metadata": {},
   "outputs": [],
   "source": [
    "samples_hmc, is_accepted = tfp.mcmc.sample_chain(\n",
    "      num_results=num_results,\n",
    "      num_burnin_steps=num_burnin_steps,\n",
    "      current_state=np.zeros([1,2]),\n",
    "      kernel=hmc,\n",
    "      trace_fn=lambda _, pkr: pkr.is_accepted, \n",
    "      seed=jax.random.PRNGKey(0))"
   ]
  },
  {
   "cell_type": "code",
   "execution_count": 26,
   "metadata": {},
   "outputs": [
    {
     "data": {
      "image/png": "[encoded data removed]",
      "text/plain": [
       "<Figure size 432x288 with 1 Axes>"
      ]
     },
     "metadata": {
      "needs_background": "light"
     },
     "output_type": "display_data"
    }
   ],
   "source": [
    "hist2d(samples_hmc[:,0,0],samples_hmc[:,0,1],64,\n",
    "       range=[[-1.1,2.1],[-0.6,1.1]],);"
   ]
  },
  {
   "cell_type": "code",
   "execution_count": null,
   "metadata": {},
   "outputs": [],
   "source": []
  }
 ],
 "metadata": {
  "kernelspec": {
   "display_name": "Python 3",
   "language": "python",
   "name": "python3"
  },
  "language_info": {
   "codemirror_mode": {
    "name": "ipython",
    "version": 3
   },
   "file_extension": ".py",
   "mimetype": "text/x-python",
   "name": "python",
   "nbconvert_exporter": "python",
   "pygments_lexer": "ipython3",
   "version": "3.8.5"
  }
 },
 "nbformat": 4,
 "nbformat_minor": 4
}

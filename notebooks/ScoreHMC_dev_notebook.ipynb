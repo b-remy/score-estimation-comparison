{
  "nbformat": 4,
  "nbformat_minor": 0,
  "metadata": {
    "colab": {
      "name": "ScoreHMC.ipynb",
      "provenance": [],
      "authorship_tag": "ABX9TyONGKDE3u7zFbJPLy4TdgiC",
      "include_colab_link": true
    },
    "kernelspec": {
      "name": "python3",
      "display_name": "Python 3"
    }
  },
  "cells": [
    {
      "cell_type": "markdown",
      "metadata": {
        "id": "view-in-github",
        "colab_type": "text"
      },
      "source": [
        "<a href=\"https://colab.research.google.com/github/b-remy/score-estimation-comparison/blob/master/ScoreHMC.ipynb\" target=\"_parent\"><img src=\"https://colab.research.google.com/assets/colab-badge.svg\" alt=\"Open In Colab\"/></a>"
      ]
    },
    {
      "cell_type": "markdown",
      "metadata": {
        "id": "QWOObg0AgHOV",
        "colab_type": "text"
      },
      "source": [
        "# Score Hamiltonian Monte-Carlo\n",
        "\n",
        "In this notebook, we implement a version of Hamiltonian Monte-Carlo that only relies on having access to a score function, and never needs to evaluate the actual log posterior. "
      ]
    },
    {
      "cell_type": "markdown",
      "metadata": {
        "id": "1WDfuFehggyO",
        "colab_type": "text"
      },
      "source": [
        "## Step I: Computing MH acceptance with only scores"
      ]
    },
    {
      "cell_type": "markdown",
      "metadata": {
        "id": "4OCkrkBpAou_",
        "colab_type": "text"
      },
      "source": [
        "In this first section, we simply testing that we can indeed evaluate the MH step in HMC even if we only have access to the score. This can be done by integral over some integration path between step x_1 and x_2. \n",
        "\n",
        "I'm gonna link this for reference:  https://en.wikipedia.org/wiki/Line_integral"
      ]
    },
    {
      "cell_type": "code",
      "metadata": {
        "id": "Sm3GoioP8NQS",
        "colab_type": "code",
        "colab": {
          "base_uri": "https://localhost:8080/",
          "height": 34
        },
        "outputId": "282dd65d-02ff-41e4-e2bb-55ed89d94466"
      },
      "source": [
        "%pylab inline\n",
        "import jax\n",
        "import jax.numpy as np\n",
        "import tensorflow_probability as tfp; tfp = tfp.experimental.substrates.jax\n",
        "tfd = tfp.distributions"
      ],
      "execution_count": 1,
      "outputs": [
        {
          "output_type": "stream",
          "text": [
            "Populating the interactive namespace from numpy and matplotlib\n"
          ],
          "name": "stdout"
        }
      ]
    },
    {
      "cell_type": "code",
      "metadata": {
        "id": "Mm4ieb5p8SsD",
        "colab_type": "code",
        "colab": {
          "base_uri": "https://localhost:8080/",
          "height": 51
        },
        "outputId": "a76f9d4b-f1fc-4a93-ba2a-6df9477c504e"
      },
      "source": [
        "# Let's use any old distribution\n",
        "dist = tfd.MultivariateNormalDiag([0,0],scale_identity_multiplier=1)"
      ],
      "execution_count": 2,
      "outputs": [
        {
          "output_type": "stream",
          "text": [
            "/usr/local/lib/python3.6/dist-packages/jax/lib/xla_bridge.py:130: UserWarning: No GPU/TPU found, falling back to CPU.\n",
            "  warnings.warn('No GPU/TPU found, falling back to CPU.')\n"
          ],
          "name": "stderr"
        }
      ]
    },
    {
      "cell_type": "code",
      "metadata": {
        "id": "pwOyhWsR8kte",
        "colab_type": "code",
        "colab": {}
      },
      "source": [
        "# ok, so let's take 2 random points\n",
        "x0 = np.array([0.1,0.2])\n",
        "x1 = np.array([-1.5, 0.3])"
      ],
      "execution_count": 3,
      "outputs": []
    },
    {
      "cell_type": "code",
      "metadata": {
        "id": "4OvtQ1Xu8yBF",
        "colab_type": "code",
        "colab": {
          "base_uri": "https://localhost:8080/",
          "height": 88
        },
        "outputId": "3e576d4d-2900-40fb-d798-468b93450634"
      },
      "source": [
        "# This is the quantity we want to estimate given only the score\n",
        "dist.log_prob(x1) - dist.log_prob(x0) "
      ],
      "execution_count": 4,
      "outputs": [
        {
          "output_type": "stream",
          "text": [
            "/usr/local/lib/python3.6/dist-packages/jax/numpy/lax_numpy.py:1621: FutureWarning: jax.numpy reductions won't accept lists and tuples in future versions, only scalars and ndarrays\n",
            "  warnings.warn(msg, category=FutureWarning)\n"
          ],
          "name": "stderr"
        },
        {
          "output_type": "execute_result",
          "data": {
            "text/plain": [
              "DeviceArray(-1.1450001, dtype=float32)"
            ]
          },
          "metadata": {
            "tags": []
          },
          "execution_count": 4
        }
      ]
    },
    {
      "cell_type": "code",
      "metadata": {
        "id": "caGB_kx3CNYp",
        "colab_type": "code",
        "colab": {
          "base_uri": "https://localhost:8080/",
          "height": 336
        },
        "outputId": "3f76423f-1b97-49ca-997a-ba5a18ac48e6"
      },
      "source": [
        "X = np.arange(-3, 3, 0.1)\n",
        "Y = np.arange(-3, 3, 0.1)\n",
        "points = stack(meshgrid(X, Y), axis=-1).reshape((-1, 2))\n",
        "contour(X,Y, dist.log_prob(points).reshape([len(Y), len(X)])); gca().set_aspect('equal')\n",
        "scatter([x0[0]], [x0[1]], label='x0')\n",
        "scatter([x1[0]], [x1[1]], label='x1')\n",
        "legend()"
      ],
      "execution_count": 5,
      "outputs": [
        {
          "output_type": "stream",
          "text": [
            "/usr/local/lib/python3.6/dist-packages/jax/numpy/lax_numpy.py:1621: FutureWarning: jax.numpy reductions won't accept lists and tuples in future versions, only scalars and ndarrays\n",
            "  warnings.warn(msg, category=FutureWarning)\n"
          ],
          "name": "stderr"
        },
        {
          "output_type": "execute_result",
          "data": {
            "text/plain": [
              "<matplotlib.legend.Legend at 0x7fb1e946a2e8>"
            ]
          },
          "metadata": {
            "tags": []
          },
          "execution_count": 5
        },
        {
          "output_type": "display_data",
          "data": {
            "image/png": "[encoded data removed]",
            "text/plain": [
              "<Figure size 432x288 with 1 Axes>"
            ]
          },
          "metadata": {
            "tags": [],
            "needs_background": "light"
          }
        }
      ]
    },
    {
      "cell_type": "code",
      "metadata": {
        "id": "qpE1ruYv88zf",
        "colab_type": "code",
        "colab": {}
      },
      "source": [
        "# let's build our score function\n",
        "score = jax.grad(lambda x: dist.log_prob(x))"
      ],
      "execution_count": 6,
      "outputs": []
    },
    {
      "cell_type": "code",
      "metadata": {
        "id": "jZfpNyWB9NbF",
        "colab_type": "code",
        "colab": {}
      },
      "source": [
        "# And let's try to integrate it\n",
        "def integrand(t):\n",
        "  # That's the path\n",
        "  u = t * x1 + (1 - t) * x0 \n",
        "  # That's the vector director of the integration path\n",
        "  d = (x1 - x0)\n",
        "  return d.dot(score(u))"
      ],
      "execution_count": 7,
      "outputs": []
    },
    {
      "cell_type": "code",
      "metadata": {
        "id": "8F9J_GEK-Mf-",
        "colab_type": "code",
        "colab": {
          "base_uri": "https://localhost:8080/",
          "height": 71
        },
        "outputId": "78d98230-149d-4231-d6ea-edcb6d81d5ee"
      },
      "source": [
        "# Ok, now we sample the score using many points\n",
        "t = np.linspace(0,1,1024)\n",
        "it = jax.vmap(integrand)(t)"
      ],
      "execution_count": 8,
      "outputs": [
        {
          "output_type": "stream",
          "text": [
            "/usr/local/lib/python3.6/dist-packages/jax/numpy/lax_numpy.py:1621: FutureWarning: jax.numpy reductions won't accept lists and tuples in future versions, only scalars and ndarrays\n",
            "  warnings.warn(msg, category=FutureWarning)\n"
          ],
          "name": "stderr"
        }
      ]
    },
    {
      "cell_type": "code",
      "metadata": {
        "id": "iAoqoNOM-0PZ",
        "colab_type": "code",
        "colab": {
          "base_uri": "https://localhost:8080/",
          "height": 88
        },
        "outputId": "2a9a1075-1150-40a4-be47-d59f922263f4"
      },
      "source": [
        "from scipy.integrate import simps\n",
        "# And integrate these samples\n",
        "print(\"Path integral: %0.4f\"%simps(it,t), \"vs %0.4f\"%(dist.log_prob(x1) - dist.log_prob(x0)))"
      ],
      "execution_count": 9,
      "outputs": [
        {
          "output_type": "stream",
          "text": [
            "Path integral: -1.1450 vs -1.1450\n"
          ],
          "name": "stdout"
        },
        {
          "output_type": "stream",
          "text": [
            "/usr/local/lib/python3.6/dist-packages/jax/numpy/lax_numpy.py:1621: FutureWarning: jax.numpy reductions won't accept lists and tuples in future versions, only scalars and ndarrays\n",
            "  warnings.warn(msg, category=FutureWarning)\n"
          ],
          "name": "stderr"
        }
      ]
    },
    {
      "cell_type": "code",
      "metadata": {
        "id": "53QBV8X8_WZz",
        "colab_type": "code",
        "colab": {}
      },
      "source": [
        "# Magique!!!!"
      ],
      "execution_count": 10,
      "outputs": []
    },
    {
      "cell_type": "code",
      "metadata": {
        "id": "yPJwlj4IAKzJ",
        "colab_type": "code",
        "colab": {
          "base_uri": "https://localhost:8080/",
          "height": 71
        },
        "outputId": "66f82f32-a382-4690-86c1-24a98deca114"
      },
      "source": [
        "# Allright, let's see what happens if we have fewer steps\n",
        "t = np.linspace(0,1,2)\n",
        "it = jax.vmap(integrand)(t)"
      ],
      "execution_count": 11,
      "outputs": [
        {
          "output_type": "stream",
          "text": [
            "/usr/local/lib/python3.6/dist-packages/jax/numpy/lax_numpy.py:1621: FutureWarning: jax.numpy reductions won't accept lists and tuples in future versions, only scalars and ndarrays\n",
            "  warnings.warn(msg, category=FutureWarning)\n"
          ],
          "name": "stderr"
        }
      ]
    },
    {
      "cell_type": "code",
      "metadata": {
        "id": "kgx4rUTkBpY4",
        "colab_type": "code",
        "colab": {
          "base_uri": "https://localhost:8080/",
          "height": 88
        },
        "outputId": "faf2c2b1-c382-4f02-ab3c-042387b2da07"
      },
      "source": [
        "print(\"Path integral: %0.7f\"%simps(it,t), \"vs %0.7f\"%(dist.log_prob(x1) - dist.log_prob(x0)))"
      ],
      "execution_count": 12,
      "outputs": [
        {
          "output_type": "stream",
          "text": [
            "/usr/local/lib/python3.6/dist-packages/jax/numpy/lax_numpy.py:1621: FutureWarning: jax.numpy reductions won't accept lists and tuples in future versions, only scalars and ndarrays\n",
            "  warnings.warn(msg, category=FutureWarning)\n"
          ],
          "name": "stderr"
        },
        {
          "output_type": "stream",
          "text": [
            "Path integral: -1.1450000 vs -1.1450001\n"
          ],
          "name": "stdout"
        }
      ]
    },
    {
      "cell_type": "code",
      "metadata": {
        "id": "QaRu1PfnBrUl",
        "colab_type": "code",
        "colab": {}
      },
      "source": [
        "# Still good!"
      ],
      "execution_count": 13,
      "outputs": []
    },
    {
      "cell_type": "markdown",
      "metadata": {
        "id": "qrxBLvO6gzua",
        "colab_type": "text"
      },
      "source": [
        "## Step II: Score-only Uncalibrated HMC "
      ]
    },
    {
      "cell_type": "markdown",
      "metadata": {
        "id": "tsRa4GNJnQzM",
        "colab_type": "text"
      },
      "source": [
        "So, we'll start by tricking TFP, providing a dummy log prob, returning always the same value, but having the correct score. In principle, UHMC should work because the actual value of logp is not needed."
      ]
    },
    {
      "cell_type": "code",
      "metadata": {
        "id": "1jLCWWYkCBAg",
        "colab_type": "code",
        "colab": {}
      },
      "source": [
        "from jax import custom_jvp"
      ],
      "execution_count": 104,
      "outputs": []
    },
    {
      "cell_type": "code",
      "metadata": {
        "id": "sL14J2f-noZp",
        "colab_type": "code",
        "colab": {}
      },
      "source": [
        "@custom_jvp\n",
        "def mylogp(x):\n",
        "  return 1.\n",
        "\n",
        "@mylogp.defjvp\n",
        "def mylogp_jvp(primals, tangents):\n",
        "  x, = primals\n",
        "  x_dot, = tangents\n",
        "  primal_out = mylogp(x)\n",
        "  s = score(x)\n",
        "  tangent_out = x_dot.dot(s)\n",
        "  return primal_out, tangent_out"
      ],
      "execution_count": 105,
      "outputs": []
    },
    {
      "cell_type": "code",
      "metadata": {
        "id": "GSYGRHdIoko4",
        "colab_type": "code",
        "colab": {
          "base_uri": "https://localhost:8080/",
          "height": 105
        },
        "outputId": "f2f16b6b-785b-4b04-f646-3e6211c672b4"
      },
      "source": [
        "# Testing our gradients at x0\n",
        "print(\"custom:\", jax.value_and_grad(mylogp)(x0))\n",
        "print(\"reference:\", score(x0))"
      ],
      "execution_count": 106,
      "outputs": [
        {
          "output_type": "stream",
          "text": [
            "custom: (1.0, DeviceArray([-0.1, -0.2], dtype=float32))\n",
            "reference: [-0.1 -0.2]\n"
          ],
          "name": "stdout"
        },
        {
          "output_type": "stream",
          "text": [
            "/usr/local/lib/python3.6/dist-packages/jax/numpy/lax_numpy.py:1621: FutureWarning: jax.numpy reductions won't accept lists and tuples in future versions, only scalars and ndarrays\n",
            "  warnings.warn(msg, category=FutureWarning)\n"
          ],
          "name": "stderr"
        }
      ]
    },
    {
      "cell_type": "code",
      "metadata": {
        "id": "eDvqepPEqRlF",
        "colab_type": "code",
        "colab": {
          "base_uri": "https://localhost:8080/",
          "height": 105
        },
        "outputId": "0248d3ce-a243-4218-9095-65f60a30f700"
      },
      "source": [
        "print(\"custom:\", jax.value_and_grad(mylogp)(x1))\n",
        "print(\"reference:\", score(x1))"
      ],
      "execution_count": 107,
      "outputs": [
        {
          "output_type": "stream",
          "text": [
            "custom: (1.0, DeviceArray([ 1.5, -0.3], dtype=float32))\n",
            "reference: [ 1.5 -0.3]\n"
          ],
          "name": "stdout"
        },
        {
          "output_type": "stream",
          "text": [
            "/usr/local/lib/python3.6/dist-packages/jax/numpy/lax_numpy.py:1621: FutureWarning: jax.numpy reductions won't accept lists and tuples in future versions, only scalars and ndarrays\n",
            "  warnings.warn(msg, category=FutureWarning)\n"
          ],
          "name": "stderr"
        }
      ]
    },
    {
      "cell_type": "code",
      "metadata": {
        "id": "fW4CUubHp_1I",
        "colab_type": "code",
        "colab": {}
      },
      "source": [
        "# Hhehehehehehe, TFP devrait n'y voir que du feux ^^"
      ],
      "execution_count": 108,
      "outputs": []
    },
    {
      "cell_type": "code",
      "metadata": {
        "id": "-yGxweFkqxKh",
        "colab_type": "code",
        "colab": {}
      },
      "source": [
        "# Initialize the HMC transition kernel.\n",
        "num_results = int(10e3)\n",
        "num_burnin_steps = int(1e3)\n",
        "\n",
        "uhmc = tfp.mcmc.UncalibratedHamiltonianMonteCarlo(\n",
        "        target_log_prob_fn=mylogp,\n",
        "        num_leapfrog_steps=10,\n",
        "        step_size=0.1)"
      ],
      "execution_count": 132,
      "outputs": []
    },
    {
      "cell_type": "code",
      "metadata": {
        "id": "PHZaN39QqcfU",
        "colab_type": "code",
        "colab": {
          "base_uri": "https://localhost:8080/",
          "height": 139
        },
        "outputId": "30dc58c5-6504-49d7-f1e0-84fba59c36a9"
      },
      "source": [
        "# Run the chain (with burn-in).\n",
        "samples, is_accepted = tfp.mcmc.sample_chain(\n",
        "      num_results=num_results,\n",
        "      num_burnin_steps=num_burnin_steps,\n",
        "      current_state=x1,\n",
        "      kernel=uhmc,\n",
        "      seed=jax.random.PRNGKey(0))"
      ],
      "execution_count": 133,
      "outputs": [
        {
          "output_type": "stream",
          "text": [
            "/usr/local/lib/python3.6/dist-packages/tensorflow_probability/python/mcmc/_jax/sample.py:314: UserWarning: supplied `TransitionKernel` is not calibrated. Markov chain may not converge to intended target distribution.\n",
            "  warnings.warn('supplied `TransitionKernel` is not calibrated. Markov '\n",
            "/usr/local/lib/python3.6/dist-packages/jax/numpy/lax_numpy.py:1621: FutureWarning: jax.numpy reductions won't accept lists and tuples in future versions, only scalars and ndarrays\n",
            "  warnings.warn(msg, category=FutureWarning)\n",
            "/usr/local/lib/python3.6/dist-packages/tensorflow_probability/python/mcmc/_jax/sample.py:338: UserWarning: Tracing all kernel results by default is deprecated. Set the `trace_fn` argument to None (the future default value) or an explicit callback that traces the values you are interested in.\n",
            "  warnings.warn('Tracing all kernel results by default is deprecated. Set '\n"
          ],
          "name": "stderr"
        }
      ]
    },
    {
      "cell_type": "code",
      "metadata": {
        "id": "qMmDVF3CrJ8i",
        "colab_type": "code",
        "colab": {
          "base_uri": "https://localhost:8080/",
          "height": 34
        },
        "outputId": "80fb9eff-4b6c-4f38-8c59-299becdbb5a9"
      },
      "source": [
        "samples.shape"
      ],
      "execution_count": 134,
      "outputs": [
        {
          "output_type": "execute_result",
          "data": {
            "text/plain": [
              "(10000, 2)"
            ]
          },
          "metadata": {
            "tags": []
          },
          "execution_count": 134
        }
      ]
    },
    {
      "cell_type": "code",
      "metadata": {
        "id": "YURsez5-rd2v",
        "colab_type": "code",
        "colab": {
          "base_uri": "https://localhost:8080/",
          "height": 265
        },
        "outputId": "cb747d43-5cd2-4bd7-b2a1-6b9b72854358"
      },
      "source": [
        "hist2d(samples[:,0], samples[:,1],64); gca().set_aspect('equal')"
      ],
      "execution_count": 135,
      "outputs": [
        {
          "output_type": "display_data",
          "data": {
            "image/png": "[encoded data removed]",
            "text/plain": [
              "<Figure size 432x288 with 1 Axes>"
            ]
          },
          "metadata": {
            "tags": [],
            "needs_background": "light"
          }
        }
      ]
    },
    {
      "cell_type": "code",
      "metadata": {
        "id": "EWBZQMbArgwC",
        "colab_type": "code",
        "colab": {
          "base_uri": "https://localhost:8080/",
          "height": 265
        },
        "outputId": "a31e5754-2205-4ba7-e0c0-c80c2588dfda"
      },
      "source": [
        "hist(samples[:,0],64);\n",
        "hist(samples[:,1],64);"
      ],
      "execution_count": 136,
      "outputs": [
        {
          "output_type": "display_data",
          "data": {
            "image/png": "[encoded data removed]",
            "text/plain": [
              "<Figure size 432x288 with 1 Axes>"
            ]
          },
          "metadata": {
            "tags": [],
            "needs_background": "light"
          }
        }
      ]
    },
    {
      "cell_type": "code",
      "metadata": {
        "id": "TOCJkcntshdr",
        "colab_type": "code",
        "colab": {}
      },
      "source": [
        "# Nickel!"
      ],
      "execution_count": 56,
      "outputs": []
    },
    {
      "cell_type": "markdown",
      "metadata": {
        "id": "Xbi6h0gcxffT",
        "colab_type": "text"
      },
      "source": [
        "## Step III: Score-only full HMC\n",
        "\n",
        "In this section, we go beyond the prebious one and implement some form of estimate of delta_logp in order to use a Metropolis-Hastings step."
      ]
    },
    {
      "cell_type": "code",
      "metadata": {
        "id": "3IU2pTyo4U14",
        "colab_type": "code",
        "colab": {}
      },
      "source": [
        "def simps(f, a, b, N=128):\n",
        "    \"\"\"Approximate the integral of f(x) from a to b by Simpson's rule.\n",
        "    Simpson's rule approximates the integral \\int_a^b f(x) dx by the sum:\n",
        "    (dx/3) \\sum_{k=1}^{N/2} (f(x_{2i-2} + 4f(x_{2i-1}) + f(x_{2i}))\n",
        "    where x_i = a + i*dx and dx = (b - a)/N.\n",
        "    Parameters\n",
        "    ----------\n",
        "    f : function\n",
        "        Vectorized function of a single variable\n",
        "    a , b : numbers\n",
        "        Interval of integration [a,b]\n",
        "    N : (even) integer\n",
        "        Number of subintervals of [a,b]\n",
        "    Returns\n",
        "    -------\n",
        "    float\n",
        "        Approximation of the integral of f(x) from a to b using\n",
        "        Simpson's rule with N subintervals of equal length.\n",
        "    Examples\n",
        "    --------\n",
        "    >>> simps(lambda x : 3*x**2,0,1,10)\n",
        "    1.0\n",
        "    Notes:\n",
        "    ------\n",
        "    Stolen from: https://www.math.ubc.ca/~pwalls/math-python/integration/simpsons-rule/\n",
        "    \"\"\"\n",
        "    if N % 2 == 1:\n",
        "        raise ValueError(\"N must be an even integer.\")\n",
        "    dx = (b - a) / N\n",
        "    x = np.linspace(a, b, N + 1)\n",
        "    y = f(x)\n",
        "    S = dx / 3 * np.sum(y[0:-1:2] + 4 * y[1::2] + y[2::2], axis=0)\n",
        "    return S"
      ],
      "execution_count": 137,
      "outputs": []
    },
    {
      "cell_type": "code",
      "metadata": {
        "id": "kZErzjLntTkt",
        "colab_type": "code",
        "colab": {}
      },
      "source": [
        "class ScoreUHMC(tfp.mcmc.UncalibratedHamiltonianMonteCarlo):\n",
        "  def __init__(self,\n",
        "               target_score_fn,\n",
        "               step_size,\n",
        "               num_leapfrog_steps,\n",
        "               num_delta_logp_steps,\n",
        "               state_gradients_are_stopped=False,\n",
        "               seed=None,\n",
        "               store_parameters_in_results=False,\n",
        "               name=None):\n",
        "    \n",
        "    # We begin by creating a fake logp, with the correct scores\n",
        "    @custom_jvp\n",
        "    def fake_logp(x):\n",
        "      return 0.\n",
        "    @fake_logp.defjvp\n",
        "    def fake_logp_jvp(primals, tangents):\n",
        "      x, = primals\n",
        "      x_dot, = tangents\n",
        "      primal_out = fake_logp(x)\n",
        "      s = target_score_fn(x)\n",
        "      tangent_out = x_dot.dot(s)\n",
        "      return primal_out, tangent_out\n",
        "    super().__init__(fake_logp,\n",
        "                     step_size,\n",
        "                     num_leapfrog_steps,\n",
        "                     state_gradients_are_stopped,\n",
        "                     seed,\n",
        "                     store_parameters_in_results, name)\n",
        "    self._parameters['target_score_fn'] = target_score_fn\n",
        "    self._parameters['num_delta_logp_steps'] = num_delta_logp_steps\n",
        "\n",
        "  def one_step(self, current_state, previous_kernel_results, seed=None):\n",
        "    \"\"\"\n",
        "    Wrapper over the normal HMC steps \n",
        "    \"\"\"\n",
        "    next_state_parts, new_kernel_results = super().one_step(current_state, \n",
        "                                                            previous_kernel_results, \n",
        "                                                            seed)\n",
        "    # We need to integrate the score over a path between input and output points\n",
        "    # Direction of integration\n",
        "    v = next_state_parts - current_state\n",
        "    @jax.vmap\n",
        "    def integrand(t):\n",
        "      return self._parameters['target_score_fn']( t * v + current_state).dot(v)\n",
        "    delta_logp = simps(integrand,0.,1., self._parameters['num_delta_logp_steps'])\n",
        "    new_kernel_results2 = new_kernel_results._replace(log_acceptance_correction=new_kernel_results.log_acceptance_correction + delta_logp)\n",
        "    return next_state_parts, new_kernel_results2"
      ],
      "execution_count": 249,
      "outputs": []
    },
    {
      "cell_type": "code",
      "metadata": {
        "id": "r1zMynqB5WsF",
        "colab_type": "code",
        "colab": {}
      },
      "source": [
        "# Initialize the HMC transition kernel.\n",
        "num_results = int(10e3)\n",
        "num_burnin_steps = int(1e3)\n",
        "\n",
        "suhmc = ScoreUHMC(\n",
        "        target_score_fn=score,\n",
        "        num_leapfrog_steps=2,\n",
        "        num_delta_logp_steps=16,\n",
        "        step_size=0.4)"
      ],
      "execution_count": 262,
      "outputs": []
    },
    {
      "cell_type": "code",
      "metadata": {
        "id": "iXXcpXck5q3h",
        "colab_type": "code",
        "colab": {
          "base_uri": "https://localhost:8080/",
          "height": 139
        },
        "outputId": "20056f18-2c56-441e-eb48-49ac7eb9b1ac"
      },
      "source": [
        "# Run the chain (with burn-in).\n",
        "samples, is_accepted = tfp.mcmc.sample_chain(\n",
        "      num_results=num_results,\n",
        "      num_burnin_steps=num_burnin_steps,\n",
        "      current_state=x1,\n",
        "      kernel=suhmc,\n",
        "      seed=jax.random.PRNGKey(0))"
      ],
      "execution_count": 263,
      "outputs": [
        {
          "output_type": "stream",
          "text": [
            "/usr/local/lib/python3.6/dist-packages/tensorflow_probability/python/mcmc/_jax/sample.py:314: UserWarning: supplied `TransitionKernel` is not calibrated. Markov chain may not converge to intended target distribution.\n",
            "  warnings.warn('supplied `TransitionKernel` is not calibrated. Markov '\n",
            "/usr/local/lib/python3.6/dist-packages/jax/numpy/lax_numpy.py:1621: FutureWarning: jax.numpy reductions won't accept lists and tuples in future versions, only scalars and ndarrays\n",
            "  warnings.warn(msg, category=FutureWarning)\n",
            "/usr/local/lib/python3.6/dist-packages/tensorflow_probability/python/mcmc/_jax/sample.py:338: UserWarning: Tracing all kernel results by default is deprecated. Set the `trace_fn` argument to None (the future default value) or an explicit callback that traces the values you are interested in.\n",
            "  warnings.warn('Tracing all kernel results by default is deprecated. Set '\n"
          ],
          "name": "stderr"
        }
      ]
    },
    {
      "cell_type": "code",
      "metadata": {
        "id": "SX110m3Y5ty5",
        "colab_type": "code",
        "colab": {
          "base_uri": "https://localhost:8080/",
          "height": 265
        },
        "outputId": "aa4e26cb-3649-4abd-e8cb-95de0d73be1c"
      },
      "source": [
        "hist2d(samples[:,0], samples[:,1],64); gca().set_aspect('equal')"
      ],
      "execution_count": 264,
      "outputs": [
        {
          "output_type": "display_data",
          "data": {
            "image/png": "[encoded data removed]",
            "text/plain": [
              "<Figure size 432x288 with 1 Axes>"
            ]
          },
          "metadata": {
            "tags": [],
            "needs_background": "light"
          }
        }
      ]
    },
    {
      "cell_type": "code",
      "metadata": {
        "id": "_6hCfl135wk-",
        "colab_type": "code",
        "colab": {
          "base_uri": "https://localhost:8080/",
          "height": 265
        },
        "outputId": "c70f20e6-83a1-4a73-8d86-3ca019bee280"
      },
      "source": [
        "hist(samples[:,0],64);\n",
        "hist(samples[:,1],64);"
      ],
      "execution_count": 265,
      "outputs": [
        {
          "output_type": "display_data",
          "data": {
            "image/png": "[encoded data removed]",
            "text/plain": [
              "<Figure size 432x288 with 1 Axes>"
            ]
          },
          "metadata": {
            "tags": [],
            "needs_background": "light"
          }
        }
      ]
    },
    {
      "cell_type": "code",
      "metadata": {
        "id": "g89UEr6D5zKZ",
        "colab_type": "code",
        "colab": {}
      },
      "source": [
        "shmc = tfp.mcmc.MetropolisHastings(ScoreUHMC(\n",
        "        target_score_fn=score,\n",
        "        num_leapfrog_steps=2,\n",
        "        num_delta_logp_steps=4,\n",
        "        step_size=0.4))"
      ],
      "execution_count": 278,
      "outputs": []
    },
    {
      "cell_type": "code",
      "metadata": {
        "id": "0Qu_YjTA52ei",
        "colab_type": "code",
        "colab": {
          "base_uri": "https://localhost:8080/",
          "height": 105
        },
        "outputId": "db4eb43f-4c99-49a7-ddd6-96d0e7d4dd00"
      },
      "source": [
        "# Run the chain (with burn-in).\n",
        "samples, is_accepted = tfp.mcmc.sample_chain(\n",
        "      num_results=num_results,\n",
        "      num_burnin_steps=num_burnin_steps,\n",
        "      current_state=x0,\n",
        "      kernel=shmc,\n",
        "      seed=jax.random.PRNGKey(0))"
      ],
      "execution_count": 279,
      "outputs": [
        {
          "output_type": "stream",
          "text": [
            "/usr/local/lib/python3.6/dist-packages/jax/numpy/lax_numpy.py:1621: FutureWarning: jax.numpy reductions won't accept lists and tuples in future versions, only scalars and ndarrays\n",
            "  warnings.warn(msg, category=FutureWarning)\n",
            "/usr/local/lib/python3.6/dist-packages/tensorflow_probability/python/mcmc/_jax/sample.py:338: UserWarning: Tracing all kernel results by default is deprecated. Set the `trace_fn` argument to None (the future default value) or an explicit callback that traces the values you are interested in.\n",
            "  warnings.warn('Tracing all kernel results by default is deprecated. Set '\n"
          ],
          "name": "stderr"
        }
      ]
    },
    {
      "cell_type": "code",
      "metadata": {
        "id": "6ydp15Yr54CU",
        "colab_type": "code",
        "colab": {
          "base_uri": "https://localhost:8080/",
          "height": 265
        },
        "outputId": "1b1eee1a-ee1f-4172-9485-561f7b8335c0"
      },
      "source": [
        "hist2d(samples[:,0], samples[:,1],64); gca().set_aspect('equal')"
      ],
      "execution_count": 280,
      "outputs": [
        {
          "output_type": "display_data",
          "data": {
            "image/png": "[encoded data removed]",
            "text/plain": [
              "<Figure size 432x288 with 1 Axes>"
            ]
          },
          "metadata": {
            "tags": [],
            "needs_background": "light"
          }
        }
      ]
    },
    {
      "cell_type": "code",
      "metadata": {
        "id": "55F65i1L-q2w",
        "colab_type": "code",
        "colab": {
          "base_uri": "https://localhost:8080/",
          "height": 265
        },
        "outputId": "9fffe1bb-4231-4226-e0ba-5467390f4546"
      },
      "source": [
        "hist(samples[:,0],64);\n",
        "hist(samples[:,1],64);"
      ],
      "execution_count": 281,
      "outputs": [
        {
          "output_type": "display_data",
          "data": {
            "image/png": "[encoded data removed]",
            "text/plain": [
              "<Figure size 432x288 with 1 Axes>"
            ]
          },
          "metadata": {
            "tags": [],
            "needs_background": "light"
          }
        }
      ]
    },
    {
      "cell_type": "code",
      "metadata": {
        "id": "cvMPusq4BNIl",
        "colab_type": "code",
        "colab": {}
      },
      "source": [
        "# Let's try a more complicated distribution\n",
        "\n",
        "def get_two_moons(sigma, resolution=1024):\n",
        "    \"\"\"\n",
        "    Returns two moons distribution as a TFP distribution\n",
        "    Parameters\n",
        "    ----------\n",
        "    sigma: float\n",
        "    Spread of the 2 moons distribution.\n",
        "    resolution: int\n",
        "    Number of components in the gaussian mixture approximation of the\n",
        "    distribution (default: 1024)\n",
        "    Returns\n",
        "    -------\n",
        "    distribution: TFP distribution\n",
        "    Two moon distribution\n",
        "    \"\"\"\n",
        "\n",
        "    outer_circ_x = np.cos(np.linspace(0, np.pi, resolution))\n",
        "    outer_circ_y = np.sin(np.linspace(0, np.pi, resolution))\n",
        "    inner_circ_x = 1 - np.cos(np.linspace(0, np.pi, resolution))\n",
        "    inner_circ_y = 1 - np.sin(np.linspace(0, np.pi, resolution)) - .5\n",
        "\n",
        "    X = np.append(outer_circ_x, inner_circ_x)\n",
        "    Y = np.append(outer_circ_y, inner_circ_y)\n",
        "    coords = np.vstack([X,Y])\n",
        "\n",
        "    distribution = tfd.MixtureSameFamily(\n",
        "    mixture_distribution=tfd.Categorical(probs=np.ones(2*resolution)/resolution/2),\n",
        "    components_distribution=tfd.MultivariateNormalDiag(loc=coords.T, scale_identity_multiplier=sigma)\n",
        "    )\n",
        "    return distribution"
      ],
      "execution_count": 282,
      "outputs": []
    },
    {
      "cell_type": "code",
      "metadata": {
        "id": "JzAj47l2CT5Q",
        "colab_type": "code",
        "colab": {}
      },
      "source": [
        "dist = get_two_moons(0.05)\n",
        "\n",
        "score = jax.grad(lambda x: dist.log_prob(x))"
      ],
      "execution_count": 321,
      "outputs": []
    },
    {
      "cell_type": "code",
      "metadata": {
        "id": "fTNZ3nB3CohA",
        "colab_type": "code",
        "colab": {}
      },
      "source": [
        "shmc = tfp.mcmc.MetropolisHastings( \n",
        "    ScoreUHMC(\n",
        "        target_score_fn=score,\n",
        "        num_leapfrog_steps=5,\n",
        "        num_delta_logp_steps=8,\n",
        "        step_size=0.1)\n",
        "    )"
      ],
      "execution_count": 339,
      "outputs": []
    },
    {
      "cell_type": "code",
      "metadata": {
        "id": "dWHg7sMsCtaR",
        "colab_type": "code",
        "colab": {
          "base_uri": "https://localhost:8080/",
          "height": 71
        },
        "outputId": "21f4d3d3-9af0-4302-9df4-002b93a42411"
      },
      "source": [
        "# Run the chain (with burn-in).\n",
        "samples, is_accepted = tfp.mcmc.sample_chain(\n",
        "      num_results=num_results,\n",
        "      num_burnin_steps=num_burnin_steps,\n",
        "      current_state=x0,\n",
        "      kernel=shmc,\n",
        "      trace_fn=lambda _, pkr: pkr.is_accepted, \n",
        "      seed=jax.random.PRNGKey(1))"
      ],
      "execution_count": 340,
      "outputs": [
        {
          "output_type": "stream",
          "text": [
            "/usr/local/lib/python3.6/dist-packages/jax/numpy/lax_numpy.py:1621: FutureWarning: jax.numpy reductions won't accept lists and tuples in future versions, only scalars and ndarrays\n",
            "  warnings.warn(msg, category=FutureWarning)\n"
          ],
          "name": "stderr"
        }
      ]
    },
    {
      "cell_type": "code",
      "metadata": {
        "id": "7EDBZJ3ECv_U",
        "colab_type": "code",
        "colab": {
          "base_uri": "https://localhost:8080/",
          "height": 230
        },
        "outputId": "ac94a2c8-b251-4a0a-e041-a4727e6a0e67"
      },
      "source": [
        "# Sampled from distribution with HMC :-D\n",
        "hist2d(samples[is_accepted,0], samples[is_accepted,1],64); gca().set_aspect('equal')"
      ],
      "execution_count": 342,
      "outputs": [
        {
          "output_type": "display_data",
          "data": {
            "image/png": "[encoded data removed]",
            "text/plain": [
              "<Figure size 432x288 with 1 Axes>"
            ]
          },
          "metadata": {
            "tags": [],
            "needs_background": "light"
          }
        }
      ]
    },
    {
      "cell_type": "code",
      "metadata": {
        "id": "wYD2QfSZSid_",
        "colab_type": "code",
        "colab": {
          "base_uri": "https://localhost:8080/",
          "height": 34
        },
        "outputId": "b931232a-a4ac-4423-98e1-145a9e5f5be6"
      },
      "source": [
        "len(where(is_accepted)[0])"
      ],
      "execution_count": 344,
      "outputs": [
        {
          "output_type": "execute_result",
          "data": {
            "text/plain": [
              "1224"
            ]
          },
          "metadata": {
            "tags": []
          },
          "execution_count": 344
        }
      ]
    },
    {
      "cell_type": "code",
      "metadata": {
        "id": "Yu1CpKc7CzCZ",
        "colab_type": "code",
        "colab": {}
      },
      "source": [
        "# For reference, let's draw from the input distribution\n",
        "samples = dist.sample(10000, seed=jax.random.PRNGKey(1))"
      ],
      "execution_count": 345,
      "outputs": []
    },
    {
      "cell_type": "code",
      "metadata": {
        "id": "JQJUK-FPDjXA",
        "colab_type": "code",
        "colab": {
          "base_uri": "https://localhost:8080/",
          "height": 230
        },
        "outputId": "ba92af8e-92f2-40f7-afde-46fde0bcf37c"
      },
      "source": [
        "hist2d(samples[:,0], samples[:,1],64); gca().set_aspect('equal')"
      ],
      "execution_count": 346,
      "outputs": [
        {
          "output_type": "display_data",
          "data": {
            "image/png": "[encoded data removed]",
            "text/plain": [
              "<Figure size 432x288 with 1 Axes>"
            ]
          },
          "metadata": {
            "tags": [],
            "needs_background": "light"
          }
        }
      ]
    },
    {
      "cell_type": "code",
      "metadata": {
        "id": "3CVoLmObDldC",
        "colab_type": "code",
        "colab": {}
      },
      "source": [
        "adaptive_hmc = tfp.mcmc.HamiltonianMonteCarlo(\n",
        "        target_log_prob_fn=dist.log_prob,\n",
        "        num_leapfrog_steps=5,\n",
        "        step_size=0.1)\n",
        "#    num_adaptation_steps=int(num_burnin_steps * 0.8))"
      ],
      "execution_count": 356,
      "outputs": []
    },
    {
      "cell_type": "code",
      "metadata": {
        "id": "Ig5GvH0QRlDD",
        "colab_type": "code",
        "colab": {
          "base_uri": "https://localhost:8080/",
          "height": 71
        },
        "outputId": "462e2719-4eb3-4821-a05d-ace8dbfec987"
      },
      "source": [
        "  samples, is_accepted = tfp.mcmc.sample_chain(\n",
        "      num_results=num_results,\n",
        "      num_burnin_steps=num_burnin_steps,\n",
        "      current_state=x0,\n",
        "      kernel=adaptive_hmc,\n",
        "      trace_fn=lambda _, pkr: pkr.is_accepted, \n",
        "      seed=jax.random.PRNGKey(1))"
      ],
      "execution_count": 358,
      "outputs": [
        {
          "output_type": "stream",
          "text": [
            "/usr/local/lib/python3.6/dist-packages/jax/numpy/lax_numpy.py:1621: FutureWarning: jax.numpy reductions won't accept lists and tuples in future versions, only scalars and ndarrays\n",
            "  warnings.warn(msg, category=FutureWarning)\n"
          ],
          "name": "stderr"
        }
      ]
    },
    {
      "cell_type": "code",
      "metadata": {
        "id": "1MmD-pHzR1v0",
        "colab_type": "code",
        "colab": {
          "base_uri": "https://localhost:8080/",
          "height": 222
        },
        "outputId": "2e8334e7-71e8-4c86-ed88-1eb8d15f0f58"
      },
      "source": [
        "hist2d(samples[is_accepted,0], samples[is_accepted,1],64); gca().set_aspect('equal')"
      ],
      "execution_count": 359,
      "outputs": [
        {
          "output_type": "display_data",
          "data": {
            "image/png": "[encoded data removed]",
            "text/plain": [
              "<Figure size 432x288 with 1 Axes>"
            ]
          },
          "metadata": {
            "tags": [],
            "needs_background": "light"
          }
        }
      ]
    },
    {
      "cell_type": "code",
      "metadata": {
        "id": "b-HtpcHRR-y3",
        "colab_type": "code",
        "colab": {}
      },
      "source": [
        ""
      ],
      "execution_count": null,
      "outputs": []
    }
  ]
}
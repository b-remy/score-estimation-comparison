{
 "cells": [
  {
   "cell_type": "code",
   "execution_count": 1,
   "metadata": {},
   "outputs": [
    {
     "name": "stdout",
     "output_type": "stream",
     "text": [
      "Populating the interactive namespace from numpy and matplotlib\n"
     ]
    }
   ],
   "source": [
    "%pylab inline\n",
    "import jax\n",
    "import jax.numpy as np\n",
    "import tensorflow_probability as tfp; tfp = tfp.experimental.substrates.jax\n",
    "tfd = tfp.distributions\n",
    "from nsec.samplers import ScoreHamiltonianMonteCarlo\n",
    "from nsec.datasets.two_moons import get_two_moons\n",
    "from nsec.replica_exchange_mc import ReplicaExchangeMC"
   ]
  },
  {
   "cell_type": "code",
   "execution_count": 2,
   "metadata": {},
   "outputs": [],
   "source": [
    "from functools import partial\n",
    "\n",
    "def logp(x, sigma):\n",
    "    return get_two_moons(sigma+0.02).log_prob(x).squeeze()\n",
    "\n",
    "dlogp = jax.jit(jax.grad(logp))"
   ]
  },
  {
   "cell_type": "code",
   "execution_count": 3,
   "metadata": {},
   "outputs": [],
   "source": [
    "def score_fn(x, sigma):\n",
    "    sigma = sigma.reshape((-1,1))\n",
    "    @partial(jax.vmap, in_axes=(0,0))\n",
    "    def inner_fn(x, sigma):\n",
    "        return dlogp(x[0], sigma[0]).reshape((-1, 2))\n",
    "    return inner_fn(x, sigma)"
   ]
  },
  {
   "cell_type": "code",
   "execution_count": 4,
   "metadata": {},
   "outputs": [
    {
     "name": "stderr",
     "output_type": "stream",
     "text": [
      "/local/home/flanusse/.local/lib/python3.8/site-packages/jax/numpy/lax_numpy.py:1621: FutureWarning: jax.numpy reductions won't accept lists and tuples in future versions, only scalars and ndarrays\n",
      "  warnings.warn(msg, category=FutureWarning)\n"
     ]
    },
    {
     "data": {
      "text/plain": [
       "(4,)"
      ]
     },
     "execution_count": 4,
     "metadata": {},
     "output_type": "execute_result"
    }
   ],
   "source": [
    "logp(np.zeros([4,1,2]).astype('float32'),\n",
    "      np.ones([4,1,1]).astype('float32')).shape"
   ]
  },
  {
   "cell_type": "code",
   "execution_count": 5,
   "metadata": {},
   "outputs": [
    {
     "data": {
      "text/plain": [
       "(4, 1, 2)"
      ]
     },
     "execution_count": 5,
     "metadata": {},
     "output_type": "execute_result"
    }
   ],
   "source": [
    "score_fn(np.zeros([4,1,2]).astype('float32'),\n",
    "      np.ones([4,1,1]).astype('float32')).shape"
   ]
  },
  {
   "cell_type": "code",
   "execution_count": 6,
   "metadata": {},
   "outputs": [],
   "source": [
    "# def score(x, s):\n",
    "#     return np.zeros([4,1,2])"
   ]
  },
  {
   "cell_type": "code",
   "execution_count": 7,
   "metadata": {},
   "outputs": [],
   "source": [
    "sigmas = 0.25**np.arange(4).astype('float32')[::-1]\n",
    "step_size = 0.2*np.sqrt(sigmas).reshape((4,1,1))\n",
    "sigmas = np.concatenate([np.array([0.0]), sigmas[1:]],axis=-1)"
   ]
  },
  {
   "cell_type": "code",
   "execution_count": 8,
   "metadata": {},
   "outputs": [
    {
     "data": {
      "text/plain": [
       "DeviceArray([0.    , 0.0625, 0.25  , 1.    ], dtype=float32)"
      ]
     },
     "execution_count": 8,
     "metadata": {},
     "output_type": "execute_result"
    }
   ],
   "source": [
    "sigmas"
   ]
  },
  {
   "cell_type": "code",
   "execution_count": 9,
   "metadata": {},
   "outputs": [
    {
     "data": {
      "text/plain": [
       "DeviceArray([[[0.025]],\n",
       "\n",
       "             [[0.05 ]],\n",
       "\n",
       "             [[0.1  ]],\n",
       "\n",
       "             [[0.2  ]]], dtype=float32)"
      ]
     },
     "execution_count": 9,
     "metadata": {},
     "output_type": "execute_result"
    }
   ],
   "source": [
    "step_size"
   ]
  },
  {
   "cell_type": "code",
   "execution_count": 10,
   "metadata": {},
   "outputs": [],
   "source": [
    "def make_kernel_fn(target_log_prob_fn, target_score_fn):\n",
    "  return ScoreHamiltonianMonteCarlo(\n",
    "      target_log_prob_fn=target_log_prob_fn,\n",
    "      target_score_fn=target_score_fn,\n",
    "      step_size=step_size, \n",
    "      num_leapfrog_steps=3,\n",
    "      num_delta_logp_steps=4)"
   ]
  },
  {
   "cell_type": "code",
   "execution_count": 23,
   "metadata": {},
   "outputs": [],
   "source": [
    "remc = ReplicaExchangeMC(\n",
    "    target_score_fn=score_fn,\n",
    "    inverse_temperatures=sigmas,\n",
    "    make_kernel_fn=make_kernel_fn,\n",
    "    num_delta_logp_steps=8,\n",
    "    swap_proposal_fn=tfp.mcmc.default_swap_proposal_fn(0.25))"
   ]
  },
  {
   "cell_type": "code",
   "execution_count": 24,
   "metadata": {},
   "outputs": [],
   "source": [
    "def trace_swaps(unused_state, results):\n",
    "  return (results.is_swap_proposed_adjacent,\n",
    "          results.is_swap_accepted_adjacent)"
   ]
  },
  {
   "cell_type": "code",
   "execution_count": 25,
   "metadata": {},
   "outputs": [],
   "source": [
    "num_results = int(1e4)\n",
    "num_burnin_steps = int(1e3)"
   ]
  },
  {
   "cell_type": "code",
   "execution_count": 26,
   "metadata": {
    "scrolled": false
   },
   "outputs": [],
   "source": [
    "samples, is_accepted = tfp.mcmc.sample_chain(\n",
    "        num_results=num_results,\n",
    "        current_state=np.zeros([1,2]),\n",
    "        kernel=remc,\n",
    "        num_burnin_steps=num_burnin_steps,\n",
    "        trace_fn=lambda _, pkr: pkr.pre_swap_replica_results.is_accepted,\n",
    "        seed=jax.random.PRNGKey(0))"
   ]
  },
  {
   "cell_type": "code",
   "execution_count": 27,
   "metadata": {},
   "outputs": [
    {
     "data": {
      "text/plain": [
       "[8942, 9691, 9915, 9983]"
      ]
     },
     "execution_count": 27,
     "metadata": {},
     "output_type": "execute_result"
    }
   ],
   "source": [
    "[len(where(is_accepted[:,i,0])[0]) for i in range(4)]"
   ]
  },
  {
   "cell_type": "code",
   "execution_count": 28,
   "metadata": {},
   "outputs": [
    {
     "data": {
      "image/png": "[encoded data removed]",
      "text/plain": [
       "<Figure size 432x288 with 1 Axes>"
      ]
     },
     "metadata": {
      "needs_background": "light"
     },
     "output_type": "display_data"
    }
   ],
   "source": [
    "hist2d(samples[:,0,0],samples[:,0,1],64,\n",
    "       range=[[-1.1,2.1],[-0.6,1.1]],);"
   ]
  },
  {
   "cell_type": "code",
   "execution_count": 20,
   "metadata": {},
   "outputs": [
    {
     "data": {
      "image/png": "[encoded data removed]",
      "text/plain": [
       "<Figure size 432x288 with 1 Axes>"
      ]
     },
     "metadata": {
      "needs_background": "light"
     },
     "output_type": "display_data"
    }
   ],
   "source": [
    "hist2d(samples[:,0,0],samples[:,0,1],64,\n",
    "       range=[[-1.1,2.1],[-0.6,1.1]],);"
   ]
  },
  {
   "cell_type": "code",
   "execution_count": 32,
   "metadata": {},
   "outputs": [],
   "source": [
    "dist_target=get_two_moons(sigmas[0]+0.02)"
   ]
  },
  {
   "cell_type": "code",
   "execution_count": 33,
   "metadata": {},
   "outputs": [],
   "source": [
    "samps = dist_target.sample(10000, seed=jax.random.PRNGKey(0))"
   ]
  },
  {
   "cell_type": "code",
   "execution_count": 34,
   "metadata": {},
   "outputs": [
    {
     "data": {
      "image/png": "[encoded data removed]",
      "text/plain": [
       "<Figure size 432x288 with 1 Axes>"
      ]
     },
     "metadata": {
      "needs_background": "light"
     },
     "output_type": "display_data"
    }
   ],
   "source": [
    "hist2d(samps[:,0],samps[:,1],64,\n",
    "       range=[[-1.1,2.1],[-0.6,1.1]],);"
   ]
  },
  {
   "cell_type": "code",
   "execution_count": 24,
   "metadata": {},
   "outputs": [],
   "source": [
    "# And just to compare, what would have happened if we only ran a normal\n",
    "# HMC in the same conditions\n",
    "hmc = tfp.mcmc.HamiltonianMonteCarlo(\n",
    "    target_log_prob_fn=dist_target.log_prob,\n",
    "    num_leapfrog_steps=3,\n",
    "    step_size=0.0125)"
   ]
  },
  {
   "cell_type": "code",
   "execution_count": 25,
   "metadata": {},
   "outputs": [],
   "source": [
    "samples_hmc, is_accepted = tfp.mcmc.sample_chain(\n",
    "      num_results=num_results,\n",
    "      num_burnin_steps=num_burnin_steps,\n",
    "      current_state=np.zeros([1,2]),\n",
    "      kernel=hmc,\n",
    "      trace_fn=lambda _, pkr: pkr.is_accepted, \n",
    "      seed=jax.random.PRNGKey(0))"
   ]
  },
  {
   "cell_type": "code",
   "execution_count": 26,
   "metadata": {},
   "outputs": [
    {
     "data": {
      "image/png": "[encoded data removed]",
      "text/plain": [
       "<Figure size 432x288 with 1 Axes>"
      ]
     },
     "metadata": {
      "needs_background": "light"
     },
     "output_type": "display_data"
    }
   ],
   "source": [
    "hist2d(samples_hmc[:,0,0],samples_hmc[:,0,1],64,\n",
    "       range=[[-1.1,2.1],[-0.6,1.1]],);"
   ]
  },
  {
   "cell_type": "code",
   "execution_count": null,
   "metadata": {},
   "outputs": [],
   "source": []
  }
 ],
 "metadata": {
  "kernelspec": {
   "display_name": "Python 3",
   "language": "python",
   "name": "python3"
  },
  "language_info": {
   "codemirror_mode": {
    "name": "ipython",
    "version": 3
   },
   "file_extension": ".py",
   "mimetype": "text/x-python",
   "name": "python",
   "nbconvert_exporter": "python",
   "pygments_lexer": "ipython3",
   "version": "3.8.0"
  }
 },
 "nbformat": 4,
 "nbformat_minor": 4
}

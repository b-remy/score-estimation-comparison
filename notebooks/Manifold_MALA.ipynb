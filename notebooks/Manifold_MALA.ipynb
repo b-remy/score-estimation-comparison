{
 "cells": [
  {
   "cell_type": "code",
   "execution_count": 1,
   "metadata": {},
   "outputs": [
    {
     "name": "stdout",
     "output_type": "stream",
     "text": [
      "Populating the interactive namespace from numpy and matplotlib\n"
     ]
    }
   ],
   "source": [
    "%pylab inline\n",
    "%load_ext autoreload\n",
    "%autoreload 2\n",
    "\n",
    "from nsec.samplers import ScoreHamiltonianMonteCarlo, ScoreMetropolisAdjustedLangevinAlgorithm\n",
    "\n",
    "from nsec.datasets.swiss_roll import get_swiss_roll\n",
    "from nsec.datasets.two_moons import get_two_moons\n",
    "import jax\n",
    "import jax.numpy as jnp\n",
    "from jax import ops\n",
    "import tensorflow_probability as tfp; tfp = tfp.experimental.substrates.jax\n",
    "from functools import partial\n",
    "\n",
    "tfd = tfp.distributions"
   ]
  },
  {
   "cell_type": "markdown",
   "metadata": {},
   "source": [
    "## Comparing Langevin and MALA from TFP"
   ]
  },
  {
   "cell_type": "code",
   "execution_count": 2,
   "metadata": {},
   "outputs": [
    {
     "name": "stderr",
     "output_type": "stream",
     "text": [
      "/opt/anaconda3/envs/cosmo/lib/python3.8/site-packages/jax/lib/xla_bridge.py:125: UserWarning: No GPU/TPU found, falling back to CPU.\n",
      "  warnings.warn('No GPU/TPU found, falling back to CPU.')\n"
     ]
    }
   ],
   "source": [
    "dist = get_swiss_roll(.5, 2048)\n",
    "score = jax.grad(dist.log_prob)\n",
    "\n",
    "num_results = int(20e3)\n",
    "num_burnin_steps = int(1e3)\n",
    "init_samples = dist.sample(10000, seed=jax.random.PRNGKey(0))"
   ]
  },
  {
   "cell_type": "code",
   "execution_count": 3,
   "metadata": {},
   "outputs": [
    {
     "name": "stderr",
     "output_type": "stream",
     "text": [
      "/opt/anaconda3/envs/cosmo/lib/python3.8/site-packages/tensorflow_probability/python/mcmc/_jax/sample.py:314: UserWarning: supplied `TransitionKernel` is not calibrated. Markov chain may not converge to intended target distribution.\n",
      "  warnings.warn('supplied `TransitionKernel` is not calibrated. Markov '\n",
      "/opt/anaconda3/envs/cosmo/lib/python3.8/site-packages/jax/numpy/lax_numpy.py:1531: FutureWarning: jax.numpy reductions won't accept lists and tuples in future versions, only scalars and ndarrays\n",
      "  warnings.warn(msg, category=FutureWarning)\n",
      "/opt/anaconda3/envs/cosmo/lib/python3.8/site-packages/tensorflow_probability/python/mcmc/_jax/sample.py:338: UserWarning: Tracing all kernel results by default is deprecated. Set the `trace_fn` argument to None (the future default value) or an explicit callback that traces the values you are interested in.\n",
      "  warnings.warn('Tracing all kernel results by default is deprecated. Set '\n"
     ]
    }
   ],
   "source": [
    "kernel_ulangevin = tfp.mcmc.UncalibratedLangevin(\n",
    "        target_log_prob_fn=dist.log_prob,\n",
    "        step_size=0.1)\n",
    "\n",
    "samples_ulangevin, is_accepted_ulangevin = tfp.mcmc.sample_chain(\n",
    "      num_results=num_results,\n",
    "      num_burnin_steps=num_burnin_steps,\n",
    "      current_state=init_samples[1],\n",
    "      kernel=kernel_ulangevin,\n",
    "      #trace_fn=lambda _, pkr: pkr.is_accepted, \n",
    "      seed=jax.random.PRNGKey(3))"
   ]
  },
  {
   "cell_type": "code",
   "execution_count": 4,
   "metadata": {},
   "outputs": [],
   "source": [
    "kernel_mala = tfp.mcmc.MetropolisAdjustedLangevinAlgorithm(\n",
    "        target_log_prob_fn=dist.log_prob,\n",
    "        step_size=0.1)\n",
    "\n",
    "samples_mala, is_accepted_mala = tfp.mcmc.sample_chain(\n",
    "      num_results=num_results,\n",
    "      num_burnin_steps=num_burnin_steps,\n",
    "      current_state=init_samples[1],\n",
    "      kernel=kernel_mala,\n",
    "      trace_fn=lambda _, pkr: pkr.is_accepted, \n",
    "      seed=jax.random.PRNGKey(1))"
   ]
  },
  {
   "cell_type": "code",
   "execution_count": 5,
   "metadata": {},
   "outputs": [
    {
     "name": "stdout",
     "output_type": "stream",
     "text": [
      "0.9776 accepted\n"
     ]
    },
    {
     "data": {
      "image/png": "[encoded data removed]",
      "text/plain": [
       "<Figure size 1080x360 with 3 Axes>"
      ]
     },
     "metadata": {
      "needs_background": "light"
     },
     "output_type": "display_data"
    }
   ],
   "source": [
    "plt.figure(figsize=(15,5))\n",
    "\n",
    "plt.subplot(131)\n",
    "hist2d(init_samples[:,0], init_samples[:,1],64,range=[[-15,15],[-15,15]]); gca().set_aspect('equal')\n",
    "scatter(init_samples[1,0], init_samples[1,1], label='x0', color='C1')\n",
    "title('Samples from true distribution')\n",
    "legend()\n",
    "plt.subplot(132)\n",
    "hist2d(samples_ulangevin[:,0], samples_ulangevin[:,1],64,range=[[-15,15],[-15,15]]); gca().set_aspect('equal')\n",
    "scatter(init_samples[1,0], init_samples[1,1], label='x0', color='C1')\n",
    "title('Uncalibrated Langevin')\n",
    "legend()\n",
    "plt.subplot(133)\n",
    "hist2d(samples_mala[is_accepted_mala,0], samples_mala[is_accepted_mala,1],64,range=[[-15,15],[-15,15]]); gca().set_aspect('equal')\n",
    "scatter(init_samples[1,0], init_samples[1,1], label='x0', color='C1')\n",
    "title('MALA')\n",
    "legend()\n",
    "\n",
    "print('{} accepted'.format(len(jnp.where(is_accepted_mala)[0])/num_results))"
   ]
  },
  {
   "cell_type": "markdown",
   "metadata": {},
   "source": [
    "## Langevin dynamics"
   ]
  },
  {
   "cell_type": "code",
   "execution_count": 6,
   "metadata": {},
   "outputs": [],
   "source": [
    "@jax.jit\n",
    "def update_langevin(i, args):\n",
    "    samples, step_size, seed = args\n",
    "    \n",
    "    seed, key, _ = jax.random.split(seed, 3)\n",
    "    \n",
    "    x = samples[i-1]\n",
    "    \n",
    "    noise = jax.random.normal(key, shape=x.shape)\n",
    "    gradient = score(x)\n",
    "    \n",
    "    new_x = x + 0.5 * step_size * gradient + noise * jnp.sqrt(step_size)\n",
    "    \n",
    "    samples_updated = ops.index_update(samples, i, new_x)\n",
    "    \n",
    "    return samples_updated, step_size, seed\n",
    "\n",
    "@jax.jit\n",
    "def langevin(init_sample, n_steps=num_results, step_size=.1, seed=jax.random.PRNGKey(5)):\n",
    "    samples = jnp.zeros((n_steps,2))\n",
    "    samples = ops.index_update(samples, ops.index[0,:], init_sample)\n",
    "    langevin_samples, _, _ = jax.lax.fori_loop(1, n_steps, update_langevin, (samples, step_size, seed))\n",
    "    \n",
    "    return langevin_samples"
   ]
  },
  {
   "cell_type": "markdown",
   "metadata": {},
   "source": [
    "## MALA"
   ]
  },
  {
   "cell_type": "code",
   "execution_count": 7,
   "metadata": {},
   "outputs": [],
   "source": [
    "@jax.jit\n",
    "def update(args):\n",
    "    (samples, i, v) = args\n",
    "    return ops.index_update(samples, i, v)\n",
    "\n",
    "@jax.jit\n",
    "def no_update(args):\n",
    "    (samples, i, v) = args\n",
    "    return ops.index_update(samples, i, samples[i-1])\n",
    "\n",
    "@jax.jit\n",
    "def update_mala(i, args):\n",
    "    samples, acceptance_samples, step_size, seed = args\n",
    "    \n",
    "    seed, key1, key2 = jax.random.split(seed,3)\n",
    "    \n",
    "    u = samples[i-1]\n",
    "    \n",
    "    noise = jax.random.normal(key1, shape=u.shape)\n",
    "    \n",
    "    drift_u = 0.5 * step_size * score(u)\n",
    "    \n",
    "    v = u + drift_u + noise * jnp.sqrt(step_size)\n",
    "    \n",
    "    drift_v = 0.5 * step_size * score(v)\n",
    "    \n",
    "    # Metropolis-Hasings\n",
    "    delta_log_p = dist.log_prob(v) - dist.log_prob(u)\n",
    "    \n",
    "    log_v_u = tfd.MultivariateNormalDiag(v + drift_v, jnp.sqrt(step_size) * jnp.ones(u.shape)).log_prob(u)\n",
    "    log_u_v = tfd.MultivariateNormalDiag(u + drift_u, jnp.sqrt(step_size) * jnp.ones(u.shape)).log_prob(v)\n",
    "\n",
    "    log_acceptance_correction = log_v_u - log_u_v\n",
    "    log_acceptance = delta_log_p + log_acceptance_correction\n",
    "    \n",
    "    acceptance_ratio = jnp.min([1., jnp.exp(log_acceptance)])\n",
    "    \n",
    "    prob = jax.random.uniform(key2)\n",
    "\n",
    "    acceptance_samples = ops.index_update(acceptance_samples, i, acceptance_ratio)\n",
    "    \n",
    "    samples_updated = jax.lax.cond(prob <= acceptance_ratio,\n",
    "                                   update,\n",
    "                                   no_update,\n",
    "                                   (samples, i, v))\n",
    "    \n",
    "    return samples_updated, acceptance_samples, step_size, seed\n",
    "\n",
    "@jax.jit\n",
    "def mala(init_sample, n_steps=int(20e3), step_size=.1, seed=jax.random.PRNGKey(5)):\n",
    "    samples = jnp.zeros((n_steps,2))\n",
    "    acceptance_samples = jnp.ones(n_steps)\n",
    "    samples = ops.index_update(samples, ops.index[0,:], init_sample)\n",
    "    \n",
    "    mala_samples, acceptance_samples, _, _ = jax.lax.fori_loop(1, n_steps, update_mala, (samples, acceptance_samples, step_size, seed))\n",
    "    \n",
    "    return mala_samples, acceptance_samples"
   ]
  },
  {
   "cell_type": "code",
   "execution_count": 8,
   "metadata": {},
   "outputs": [],
   "source": [
    "init = init_samples[1]\n",
    "custom_langevin = jnp.array(langevin(init))\n",
    "custom_mala, acceptance_samples = mala(init)\n",
    "custom_mala = jnp.array(custom_mala)"
   ]
  },
  {
   "cell_type": "code",
   "execution_count": 9,
   "metadata": {},
   "outputs": [
    {
     "data": {
      "text/plain": [
       "Text(0.5, 1.0, 'MALA')"
      ]
     },
     "execution_count": 9,
     "metadata": {},
     "output_type": "execute_result"
    },
    {
     "data": {
      "image/png": "[encoded data removed]",
      "text/plain": [
       "<Figure size 720x360 with 2 Axes>"
      ]
     },
     "metadata": {
      "needs_background": "light"
     },
     "output_type": "display_data"
    }
   ],
   "source": [
    "plt.figure(figsize=(10,5))\n",
    "plt.subplot(121)\n",
    "hist2d(custom_langevin[:,0], custom_langevin[:,1],64,range=[[-15,15],[-15,15]]); gca().set_aspect('equal')\n",
    "scatter(init_samples[1, 0], init_samples[1, 1], label='x0', color='C1')\n",
    "plt.title('Langevin')\n",
    "plt.subplot(122)\n",
    "hist2d(custom_mala[:,0], custom_mala[:,1],64,range=[[-15,15],[-15,15]]); gca().set_aspect('equal')\n",
    "scatter(custom_mala[0, 0], custom_mala[0, 1], label='x0', color='C1')\n",
    "plt.title('MALA')"
   ]
  },
  {
   "cell_type": "code",
   "execution_count": 10,
   "metadata": {},
   "outputs": [
    {
     "data": {
      "text/plain": [
       "Text(0.5, 1.0, 'acceptance ratios')"
      ]
     },
     "execution_count": 10,
     "metadata": {},
     "output_type": "execute_result"
    },
    {
     "data": {
      "image/png": "[encoded data removed]",
      "text/plain": [
       "<Figure size 432x288 with 1 Axes>"
      ]
     },
     "metadata": {
      "needs_background": "light"
     },
     "output_type": "display_data"
    }
   ],
   "source": [
    "plot(acceptance_samples)\n",
    "jnp.mean(acceptance_samples)\n",
    "plt.title('acceptance ratios')"
   ]
  },
  {
   "cell_type": "code",
   "execution_count": null,
   "metadata": {},
   "outputs": [],
   "source": []
  },
  {
   "cell_type": "code",
   "execution_count": null,
   "metadata": {},
   "outputs": [],
   "source": []
  },
  {
   "cell_type": "code",
   "execution_count": null,
   "metadata": {},
   "outputs": [],
   "source": []
  },
  {
   "cell_type": "code",
   "execution_count": null,
   "metadata": {},
   "outputs": [],
   "source": []
  },
  {
   "cell_type": "code",
   "execution_count": null,
   "metadata": {},
   "outputs": [],
   "source": []
  },
  {
   "cell_type": "code",
   "execution_count": null,
   "metadata": {},
   "outputs": [],
   "source": []
  },
  {
   "cell_type": "code",
   "execution_count": null,
   "metadata": {},
   "outputs": [],
   "source": []
  },
  {
   "cell_type": "code",
   "execution_count": null,
   "metadata": {},
   "outputs": [],
   "source": []
  },
  {
   "cell_type": "code",
   "execution_count": null,
   "metadata": {},
   "outputs": [],
   "source": []
  },
  {
   "cell_type": "code",
   "execution_count": null,
   "metadata": {},
   "outputs": [],
   "source": []
  },
  {
   "cell_type": "code",
   "execution_count": null,
   "metadata": {},
   "outputs": [],
   "source": []
  }
 ],
 "metadata": {
  "kernelspec": {
   "display_name": "cosmo",
   "language": "python",
   "name": "cosmo"
  },
  "language_info": {
   "codemirror_mode": {
    "name": "ipython",
    "version": 3
   },
   "file_extension": ".py",
   "mimetype": "text/x-python",
   "name": "python",
   "nbconvert_exporter": "python",
   "pygments_lexer": "ipython3",
   "version": "3.8.3"
  }
 },
 "nbformat": 4,
 "nbformat_minor": 2
}

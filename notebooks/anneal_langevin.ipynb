{
 "cells": [
  {
   "cell_type": "code",
   "execution_count": 1,
   "metadata": {},
   "outputs": [
    {
     "name": "stdout",
     "output_type": "stream",
     "text": [
      "Populating the interactive namespace from numpy and matplotlib\n"
     ]
    }
   ],
   "source": [
    "%pylab inline\n",
    "%load_ext autoreload\n",
    "%autoreload 2\n",
    "\n",
    "from nsec.samplers import ScoreHamiltonianMonteCarlo, ScoreMetropolisAdjustedLangevinAlgorithm\n",
    "\n",
    "from nsec.datasets.swiss_roll import get_swiss_roll\n",
    "from nsec.datasets.two_moons import get_two_moons\n",
    "import jax\n",
    "import jax.numpy as jnp\n",
    "from jax import ops\n",
    "import tensorflow_probability as tfp; tfp = tfp.experimental.substrates.jax\n",
    "from functools import partial"
   ]
  },
  {
   "cell_type": "code",
   "execution_count": 45,
   "metadata": {},
   "outputs": [],
   "source": [
    "dist = get_swiss_roll(.5, 2048)\n",
    "dist = get_two_moons(.05, 2048)\n",
    "\n",
    "score = jax.grad(dist.log_prob)"
   ]
  },
  {
   "cell_type": "markdown",
   "metadata": {},
   "source": [
    "# Langevin dynamics"
   ]
  },
  {
   "cell_type": "code",
   "execution_count": 59,
   "metadata": {},
   "outputs": [],
   "source": [
    "@jax.jit\n",
    "def update_langevin(i, args):\n",
    "    samples, step_size, seed = args\n",
    "    \n",
    "    seed, key, _ = jax.random.split(seed, 3)\n",
    "    \n",
    "    x = samples[i-1]\n",
    "    \n",
    "    noise = jax.random.normal(key, shape=x.shape)\n",
    "    gradient = score(x)\n",
    "    \n",
    "    new_x = x + 0.5 * step_size * gradient + noise * jnp.sqrt(step_size)\n",
    "    \n",
    "    samples_updated = ops.index_update(samples, i, new_x)\n",
    "    \n",
    "    return samples_updated, step_size, seed\n",
    "\n",
    "@jax.jit\n",
    "def langevin(init_sample, n_steps=int(20e4), step_size=.001, seed=jax.random.PRNGKey(0)):\n",
    "    samples = jnp.zeros((n_steps,2))\n",
    "    samples = ops.index_update(samples, ops.index[0,:], init_sample)\n",
    "    langevin_samples, _, _ = jax.lax.fori_loop(1, n_steps, update_langevin, (samples, step_size, seed))\n",
    "    \n",
    "    return langevin_samples"
   ]
  },
  {
   "cell_type": "code",
   "execution_count": 60,
   "metadata": {},
   "outputs": [],
   "source": [
    "init = dist.sample(seed=jax.random.PRNGKey(0))\n",
    "\n",
    "custom_langevin = jnp.array(langevin(init))"
   ]
  },
  {
   "cell_type": "code",
   "execution_count": 61,
   "metadata": {},
   "outputs": [
    {
     "data": {
      "text/plain": [
       "<matplotlib.collections.PathCollection at 0x7f9f0a5553a0>"
      ]
     },
     "execution_count": 61,
     "metadata": {},
     "output_type": "execute_result"
    },
    {
     "data": {
      "image/png": "[encoded data removed]",
      "text/plain": [
       "<Figure size 432x288 with 1 Axes>"
      ]
     },
     "metadata": {
      "needs_background": "light"
     },
     "output_type": "display_data"
    }
   ],
   "source": [
    "\"\"\"\n",
    "hist2d(custom_langevin[:,0], custom_langevin[:,1],64,range=[[-15,15],[-15,15]]); gca().set_aspect('equal')\n",
    "#scatter(samples_customlangevin[:,0], samples_customlangevin[:,1])\n",
    "scatter(init[0], init[1], label='x0', color='C1')\n",
    "\"\"\"\n",
    "hist2d(custom_langevin[:,0], custom_langevin[:,1],64,range=[[-3,3],[-3,3]]); gca().set_aspect('equal')\n",
    "#scatter(samples_customlangevin[:,0], samples_customlangevin[:,1])\n",
    "scatter(init[0], init[1], label='x0', color='C1')"
   ]
  },
  {
   "cell_type": "markdown",
   "metadata": {},
   "source": [
    "## Anneal Langevin Dynamics"
   ]
  },
  {
   "cell_type": "code",
   "execution_count": 135,
   "metadata": {},
   "outputs": [],
   "source": [
    "@jax.jit\n",
    "def update_a_langevin(i, args):\n",
    "    samples, j, n_steps, step_size, seed = args\n",
    "    \n",
    "    seed, key, _ = jax.random.split(seed, 3)\n",
    "    \n",
    "    x = samples[n_steps*j + i-1]\n",
    "    \n",
    "    noise = jax.random.normal(key, shape=x.shape)\n",
    "    gradient = score(x)\n",
    "    \n",
    "    new_x = x + 0.5 * step_size * gradient + noise * jnp.sqrt(step_size)\n",
    "    \n",
    "    samples_updated = ops.index_update(samples, n_steps*j + i, new_x)\n",
    "    \n",
    "    return samples_updated, j, n_steps, step_size, seed\n",
    "\n",
    "@jax.jit\n",
    "def anneal_sigma_loop(j, args):\n",
    "    (samples, sigmas, step_lr, n_steps, seed) = args\n",
    "\n",
    "    step_size = step_lr * (sigmas[j] / sigmas[-1]) ** 2\n",
    "    \n",
    "    start = jax.lax.cond(j==0, lambda x: 1, lambda x: 0, 0)\n",
    "    \n",
    "    langevin_samples, _, _, _, seed = jax.lax.fori_loop(start, n_steps, update_a_langevin, (samples, j, n_steps, step_size, seed))\n",
    "\n",
    "    return langevin_samples, sigmas, step_lr, n_steps, seed\n",
    "\n",
    "@jax.jit\n",
    "def anneal_langevin(init_sample, sigmas, n_steps=int(1e4), step_lr=.001, seed=jax.random.PRNGKey(0)):\n",
    "    samples = jnp.zeros((n_steps*len(sigmas),2))\n",
    "    samples = ops.index_update(samples, ops.index[0,:], init_sample)\n",
    "\n",
    "    langevin_samples, _, _, _, _ = jax.lax.fori_loop(0, len(sigmas), anneal_sigma_loop, (samples, sigmas, step_lr, n_steps, seed))\n",
    "    \n",
    "    return langevin_samples"
   ]
  },
  {
   "cell_type": "code",
   "execution_count": 136,
   "metadata": {},
   "outputs": [
    {
     "name": "stdout",
     "output_type": "stream",
     "text": [
      "[0.15       0.13276324 0.11750715 0.1040042  0.09205287 0.08147492\n",
      " 0.07211247 0.0638259  0.05649154 0.05      ]\n"
     ]
    }
   ],
   "source": [
    "sigma_begin = 0.15\n",
    "sigma_end = 0.05\n",
    "num_classes = 10\n",
    "sigmas_list = jnp.exp(jnp.linspace(jnp.log(sigma_begin), np.log(sigma_end),\n",
    "                                    num_classes))\n",
    "#sigmas_list = jnp.zeros(10) + 1e-2\n",
    "print(sigmas_list)\n",
    "\n",
    "\n",
    "res_al = jnp.array(anneal_langevin(init, sigmas_list))"
   ]
  },
  {
   "cell_type": "code",
   "execution_count": 137,
   "metadata": {},
   "outputs": [
    {
     "data": {
      "text/plain": [
       "Text(0.5, 1.0, 'annealed langevin')"
      ]
     },
     "execution_count": 137,
     "metadata": {},
     "output_type": "execute_result"
    },
    {
     "data": {
      "image/png": "[encoded data removed]",
      "text/plain": [
       "<Figure size 432x288 with 2 Axes>"
      ]
     },
     "metadata": {
      "needs_background": "light"
     },
     "output_type": "display_data"
    }
   ],
   "source": [
    "\"\"\"\n",
    "plt.subplot(121)\n",
    "hist2d(custom_langevin[:,0], custom_langevin[:,1],64,range=[[-15,15],[-15,15]]); gca().set_aspect('equal')\n",
    "scatter(init[0], init[1], label='x0', color='C1')\n",
    "plt.title('langevin')\n",
    "plt.subplot(122)\n",
    "hist2d(res_al[:,0], res_al[:,1],64,range=[[-15,15],[-15,15]]); gca().set_aspect('equal')\n",
    "scatter(init[0], init[1], label='x0', color='C1')\n",
    "plt.title('annealed langevin')\n",
    "\"\"\"\n",
    "\n",
    "plt.subplot(121)\n",
    "hist2d(custom_langevin[:,0], custom_langevin[:,1],64,range=[[-3,3],[-3,3]]); gca().set_aspect('equal')\n",
    "scatter(init[0], init[1], label='x0', color='C1')\n",
    "plt.title('langevin')\n",
    "plt.subplot(122)\n",
    "hist2d(res_al[:,0], res_al[:,1],64,range=[[-3,3],[-3,3]]); gca().set_aspect('equal')\n",
    "scatter(init[0], init[1], label='x0', color='C1')\n",
    "plt.title('annealed langevin')"
   ]
  },
  {
   "cell_type": "code",
   "execution_count": null,
   "metadata": {},
   "outputs": [],
   "source": []
  },
  {
   "cell_type": "code",
   "execution_count": null,
   "metadata": {},
   "outputs": [],
   "source": []
  }
 ],
 "metadata": {
  "kernelspec": {
   "display_name": "cosmo",
   "language": "python",
   "name": "cosmo"
  },
  "language_info": {
   "codemirror_mode": {
    "name": "ipython",
    "version": 3
   },
   "file_extension": ".py",
   "mimetype": "text/x-python",
   "name": "python",
   "nbconvert_exporter": "python",
   "pygments_lexer": "ipython3",
   "version": "3.8.3"
  }
 },
 "nbformat": 4,
 "nbformat_minor": 2
}
